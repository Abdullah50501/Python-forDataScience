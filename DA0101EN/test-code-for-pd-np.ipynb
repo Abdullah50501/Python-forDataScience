{
 "cells": [
  {
   "cell_type": "markdown",
   "id": "24a24e19-5c0f-46c5-a60f-a220a0a4ca05",
   "metadata": {},
   "source": [
    "This is a note book to understand and test numpy and pandas"
   ]
  },
  {
   "cell_type": "markdown",
   "id": "2a690245-263f-4144-a168-898c20aa671c",
   "metadata": {},
   "source": [
    "testing function min amd max in numpy "
   ]
  },
  {
   "cell_type": "code",
   "execution_count": 3,
   "id": "2e59901f-d47c-490a-9b6d-3036e931ae53",
   "metadata": {},
   "outputs": [
    {
     "name": "stdout",
     "output_type": "stream",
     "text": [
      "this is max(list):  4\n",
      "this is max(df[coulmn]):  4\n"
     ]
    }
   ],
   "source": [
    "import numpy as np\n",
    "import pandas as pd\n",
    "\n",
    "list = [1,2,3,4]\n",
    "datafream = pd.read_csv('samble-table.csv')\n",
    "\n",
    "print('this is max(list): ', max(list))\n",
    "print('this is max(df[coulmn]): ', max(datafream['column1']))"
   ]
  },
  {
   "cell_type": "markdown",
   "id": "88b68d27-a4be-43c6-8f81-4d354131742e",
   "metadata": {},
   "source": [
    "Testing same code as above with no numpy imported"
   ]
  },
  {
   "cell_type": "code",
   "execution_count": 2,
   "id": "5c92deb5-1be5-41e8-a072-65150356016d",
   "metadata": {},
   "outputs": [
    {
     "name": "stdout",
     "output_type": "stream",
     "text": [
      "this is max(list):  4\n",
      "this is max(df[coulmn]):  4\n",
      "test panda is not imprted \n"
     ]
    },
    {
     "ename": "NameError",
     "evalue": "name 'np' is not defined",
     "output_type": "error",
     "traceback": [
      "\u001b[0;31m---------------------------------------------------------------------------\u001b[0m",
      "\u001b[0;31mNameError\u001b[0m                                 Traceback (most recent call last)",
      "\u001b[0;32m<ipython-input-2-bd7cc1005689>\u001b[0m in \u001b[0;36m<module>\u001b[0;34m\u001b[0m\n\u001b[1;32m      7\u001b[0m \u001b[0mprint\u001b[0m\u001b[0;34m(\u001b[0m\u001b[0;34m'this is max(df[coulmn]): '\u001b[0m\u001b[0;34m,\u001b[0m \u001b[0mmax\u001b[0m\u001b[0;34m(\u001b[0m\u001b[0mdatafream\u001b[0m\u001b[0;34m[\u001b[0m\u001b[0;34m'column1'\u001b[0m\u001b[0;34m]\u001b[0m\u001b[0;34m)\u001b[0m\u001b[0;34m)\u001b[0m\u001b[0;34m\u001b[0m\u001b[0;34m\u001b[0m\u001b[0m\n\u001b[1;32m      8\u001b[0m \u001b[0mprint\u001b[0m\u001b[0;34m(\u001b[0m\u001b[0;34m'test panda is not imprted '\u001b[0m\u001b[0;34m)\u001b[0m\u001b[0;34m\u001b[0m\u001b[0;34m\u001b[0m\u001b[0m\n\u001b[0;32m----> 9\u001b[0;31m \u001b[0mprint\u001b[0m\u001b[0;34m(\u001b[0m\u001b[0mnp\u001b[0m\u001b[0;34m.\u001b[0m\u001b[0mNaN\u001b[0m\u001b[0;34m)\u001b[0m\u001b[0;34m\u001b[0m\u001b[0;34m\u001b[0m\u001b[0m\n\u001b[0m",
      "\u001b[0;31mNameError\u001b[0m: name 'np' is not defined"
     ]
    }
   ],
   "source": [
    "import pandas as pd\n",
    "\n",
    "list = [1,2,3,4]\n",
    "datafream = pd.read_csv('samble-table.csv')\n",
    "\n",
    "print('this is max(list): ', max(list))\n",
    "print('this is max(df[coulmn]): ', max(datafream['column1']))\n",
    "print('test panda is not imprted ')\n",
    "print(np.NaN)"
   ]
  },
  {
   "cell_type": "markdown",
   "id": "d1ac071b-1857-4c90-8084-954f5b6f88ec",
   "metadata": {},
   "source": [
    "So, Max() is a built in function and not part of numpy :)\n",
    "\n",
    "Next testing np.linspace"
   ]
  },
  {
   "cell_type": "code",
   "execution_count": 7,
   "id": "10d240a3-c2ec-4f43-a266-e9387321a0b0",
   "metadata": {},
   "outputs": [
    {
     "name": "stdout",
     "output_type": "stream",
     "text": [
      "[  0.  25.  50.  75. 100.]\n",
      "<class 'numpy.ndarray'>\n",
      "<class 'numpy.float64'>\n"
     ]
    }
   ],
   "source": [
    "import pandas as pn\n",
    "import numpy as np\n",
    "\n",
    "returned = np.linspace(0,100,5)\n",
    "print(returned)\n",
    "print(type(returned))\n",
    "print(type(returned[0]))"
   ]
  },
  {
   "cell_type": "markdown",
   "id": "b356175c-e363-4d2b-aa3d-a8c1c4849e3d",
   "metadata": {},
   "source": [
    "np.linspace(Low,Max,x)\n",
    "so it returns an x sized ndarray with equaly spaced numbers (elimnts of float) starting with low and ending with max  "
   ]
  },
  {
   "cell_type": "code",
   "execution_count": null,
   "id": "8b9f8569-9b23-407a-9a78-3ab563db29f2",
   "metadata": {},
   "outputs": [],
   "source": []
  }
 ],
 "metadata": {
  "kernelspec": {
   "display_name": "Python",
   "language": "python",
   "name": "conda-env-python-py"
  },
  "language_info": {
   "codemirror_mode": {
    "name": "ipython",
    "version": 3
   },
   "file_extension": ".py",
   "mimetype": "text/x-python",
   "name": "python",
   "nbconvert_exporter": "python",
   "pygments_lexer": "ipython3",
   "version": "3.6.13"
  }
 },
 "nbformat": 4,
 "nbformat_minor": 5
}
