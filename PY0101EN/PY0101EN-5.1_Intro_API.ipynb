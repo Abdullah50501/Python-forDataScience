{
 "cells": [
  {
   "cell_type": "markdown",
   "metadata": {},
   "source": [
    "<center>\n",
    "    <img src=\"https://cf-courses-data.s3.us.cloud-object-storage.appdomain.cloud/IBMDeveloperSkillsNetwork-PY0101EN-SkillsNetwork/IDSNlogo.png\" width=\"300\" alt=\"cognitiveclass.ai logo\"  />\n",
    "</center>\n",
    "\n",
    "# Application Programming Interface\n",
    "\n",
    "Estimated time needed: **15** minutes\n",
    "\n",
    "## Objectives\n",
    "\n",
    "After completing this lab you will be able to:\n",
    "\n",
    "-   Create and Use APIs in Python\n"
   ]
  },
  {
   "cell_type": "markdown",
   "metadata": {},
   "source": [
    "### Introduction\n",
    "\n",
    "An API lets two pieces of software talk to each other. Just like a function,  you don’t have to know how the API works only its inputs and outputs.  An essential type of API is a REST API that allows you to access resources via the internet. In this lab, we will review the Pandas Library  in the context of an API, we will also review a basic REST API  \n"
   ]
  },
  {
   "cell_type": "markdown",
   "metadata": {},
   "source": [
    "## Table of Contents\n",
    "\n",
    "<div class=\"alert alert-block alert-info\" style=\"margin-top: 20px\">\n",
    "<li><a href=\"#ref0\">Pandas is an API</a></li>\n",
    "<li><a href=\"#ref1\">REST APIs Basics  </a></li>\n",
    "<li><a href=\"#ref2\">Quiz on Tuples</a></li>\n",
    "\n",
    "</div>\n",
    "\n",
    "<hr>\n"
   ]
  },
  {
   "cell_type": "code",
   "execution_count": 1,
   "metadata": {
    "collapsed": false,
    "jupyter": {
     "outputs_hidden": false
    }
   },
   "outputs": [
    {
     "name": "stdout",
     "output_type": "stream",
     "text": [
      "Collecting pycoingecko\n",
      "  Downloading https://files.pythonhosted.org/packages/42/34/e953751a2786273cf7ad2b144d34f2ba321885a1d0515de2c2ad19b8d25e/pycoingecko-2.0.0-py3-none-any.whl\n",
      "Requirement already satisfied: requests in /home/jupyterlab/conda/envs/python/lib/python3.6/site-packages (from pycoingecko) (2.25.1)\n",
      "Requirement already satisfied: idna<3,>=2.5 in /home/jupyterlab/conda/envs/python/lib/python3.6/site-packages (from requests->pycoingecko) (2.10)\n",
      "Requirement already satisfied: urllib3<1.27,>=1.21.1 in /home/jupyterlab/conda/envs/python/lib/python3.6/site-packages (from requests->pycoingecko) (1.26.4)\n",
      "Requirement already satisfied: certifi>=2017.4.17 in /home/jupyterlab/conda/envs/python/lib/python3.6/site-packages (from requests->pycoingecko) (2020.12.5)\n",
      "Requirement already satisfied: chardet<5,>=3.0.2 in /home/jupyterlab/conda/envs/python/lib/python3.6/site-packages (from requests->pycoingecko) (4.0.0)\n",
      "Installing collected packages: pycoingecko\n",
      "Successfully installed pycoingecko-2.0.0\n",
      "Requirement already satisfied: plotly in /home/jupyterlab/conda/envs/python/lib/python3.6/site-packages (4.14.3)\n",
      "Requirement already satisfied: retrying>=1.3.3 in /home/jupyterlab/conda/envs/python/lib/python3.6/site-packages (from plotly) (1.3.3)\n",
      "Requirement already satisfied: six in /home/jupyterlab/conda/envs/python/lib/python3.6/site-packages (from plotly) (1.15.0)\n",
      "Collecting mplfinance\n",
      "\u001b[?25l  Downloading https://files.pythonhosted.org/packages/3f/4e/a3de915df8d112579beb3df22e47b3929670b10e9c5dfd4a2b31bf1a34a7/mplfinance-0.12.7a17-py3-none-any.whl (62kB)\n",
      "\u001b[K     |████████████████████████████████| 71kB 16.0MB/s eta 0:00:01\n",
      "\u001b[?25hRequirement already satisfied: pandas in /home/jupyterlab/conda/envs/python/lib/python3.6/site-packages (from mplfinance) (1.1.5)\n",
      "Requirement already satisfied: matplotlib in /home/jupyterlab/conda/envs/python/lib/python3.6/site-packages (from mplfinance) (3.3.4)\n",
      "Requirement already satisfied: pytz>=2017.2 in /home/jupyterlab/conda/envs/python/lib/python3.6/site-packages (from pandas->mplfinance) (2021.1)\n",
      "Requirement already satisfied: python-dateutil>=2.7.3 in /home/jupyterlab/conda/envs/python/lib/python3.6/site-packages (from pandas->mplfinance) (2.8.1)\n",
      "Requirement already satisfied: numpy>=1.15.4 in /home/jupyterlab/conda/envs/python/lib/python3.6/site-packages (from pandas->mplfinance) (1.19.5)\n",
      "Requirement already satisfied: pyparsing!=2.0.4,!=2.1.2,!=2.1.6,>=2.0.3 in /home/jupyterlab/conda/envs/python/lib/python3.6/site-packages (from matplotlib->mplfinance) (2.4.7)\n",
      "Requirement already satisfied: pillow>=6.2.0 in /home/jupyterlab/conda/envs/python/lib/python3.6/site-packages (from matplotlib->mplfinance) (8.2.0)\n",
      "Requirement already satisfied: kiwisolver>=1.0.1 in /home/jupyterlab/conda/envs/python/lib/python3.6/site-packages (from matplotlib->mplfinance) (1.3.1)\n",
      "Requirement already satisfied: cycler>=0.10 in /home/jupyterlab/conda/envs/python/lib/python3.6/site-packages/cycler-0.10.0-py3.6.egg (from matplotlib->mplfinance) (0.10.0)\n",
      "Requirement already satisfied: six>=1.5 in /home/jupyterlab/conda/envs/python/lib/python3.6/site-packages (from python-dateutil>=2.7.3->pandas->mplfinance) (1.15.0)\n",
      "Installing collected packages: mplfinance\n",
      "Successfully installed mplfinance-0.12.7a17\n"
     ]
    }
   ],
   "source": [
    "!pip install pycoingecko\n",
    "!pip install plotly\n",
    "!pip install mplfinance"
   ]
  },
  {
   "cell_type": "markdown",
   "metadata": {},
   "source": [
    "<h2 id=\"PandasAPI\">Pandas is an API </h2>\n"
   ]
  },
  {
   "cell_type": "markdown",
   "metadata": {},
   "source": [
    "Pandas is actually set of software components , much of  which is not even written in Python.\n"
   ]
  },
  {
   "cell_type": "code",
   "execution_count": 3,
   "metadata": {
    "collapsed": false,
    "jupyter": {
     "outputs_hidden": false
    }
   },
   "outputs": [],
   "source": [
    "import pandas as pd\n",
    "import numpy as np\n",
    "import plotly.graph_objects as go\n",
    "from plotly.offline import plot\n",
    "import matplotlib.pyplot as plt\n",
    "import datetime\n",
    "from pycoingecko import CoinGeckoAPI\n",
    "from mplfinance.original_flavor import candlestick2_ohlc"
   ]
  },
  {
   "cell_type": "markdown",
   "metadata": {},
   "source": [
    "You create a dictionary, this is just data.\n"
   ]
  },
  {
   "cell_type": "code",
   "execution_count": 4,
   "metadata": {
    "collapsed": false,
    "jupyter": {
     "outputs_hidden": false
    }
   },
   "outputs": [],
   "source": [
    "dict_={'a':[11,21,31],'b':[12,22,32]}"
   ]
  },
  {
   "cell_type": "markdown",
   "metadata": {},
   "source": [
    "When you create a Pandas object with the Dataframe constructor in API lingo, this is an \"instance\". The data in the dictionary is passed along to the pandas API. You then use the dataframe to communicate with the API.\n"
   ]
  },
  {
   "cell_type": "code",
   "execution_count": 5,
   "metadata": {
    "collapsed": false,
    "jupyter": {
     "outputs_hidden": false
    }
   },
   "outputs": [
    {
     "data": {
      "text/plain": [
       "pandas.core.frame.DataFrame"
      ]
     },
     "execution_count": 5,
     "metadata": {},
     "output_type": "execute_result"
    }
   ],
   "source": [
    "df=pd.DataFrame(dict_)\n",
    "type(df)"
   ]
  },
  {
   "cell_type": "markdown",
   "metadata": {},
   "source": [
    "<img src = \"https://cf-courses-data.s3.us.cloud-object-storage.appdomain.cloud/IBMDeveloperSkillsNetwork-PY0101EN-SkillsNetwork/labs/Module%205/images/pandas_api.png\" width = 800, align = \"center\" alt=\"logistic regression block diagram\" />\n"
   ]
  },
  {
   "cell_type": "markdown",
   "metadata": {},
   "source": [
    "When you call the method head the dataframe communicates with the API displaying the first few rows of the dataframe.\n"
   ]
  },
  {
   "cell_type": "code",
   "execution_count": 6,
   "metadata": {
    "collapsed": false,
    "jupyter": {
     "outputs_hidden": false
    }
   },
   "outputs": [
    {
     "data": {
      "text/html": [
       "<div>\n",
       "<style scoped>\n",
       "    .dataframe tbody tr th:only-of-type {\n",
       "        vertical-align: middle;\n",
       "    }\n",
       "\n",
       "    .dataframe tbody tr th {\n",
       "        vertical-align: top;\n",
       "    }\n",
       "\n",
       "    .dataframe thead th {\n",
       "        text-align: right;\n",
       "    }\n",
       "</style>\n",
       "<table border=\"1\" class=\"dataframe\">\n",
       "  <thead>\n",
       "    <tr style=\"text-align: right;\">\n",
       "      <th></th>\n",
       "      <th>a</th>\n",
       "      <th>b</th>\n",
       "    </tr>\n",
       "  </thead>\n",
       "  <tbody>\n",
       "    <tr>\n",
       "      <th>0</th>\n",
       "      <td>11</td>\n",
       "      <td>12</td>\n",
       "    </tr>\n",
       "    <tr>\n",
       "      <th>1</th>\n",
       "      <td>21</td>\n",
       "      <td>22</td>\n",
       "    </tr>\n",
       "    <tr>\n",
       "      <th>2</th>\n",
       "      <td>31</td>\n",
       "      <td>32</td>\n",
       "    </tr>\n",
       "  </tbody>\n",
       "</table>\n",
       "</div>"
      ],
      "text/plain": [
       "    a   b\n",
       "0  11  12\n",
       "1  21  22\n",
       "2  31  32"
      ]
     },
     "execution_count": 6,
     "metadata": {},
     "output_type": "execute_result"
    }
   ],
   "source": [
    "df.head()"
   ]
  },
  {
   "cell_type": "markdown",
   "metadata": {},
   "source": [
    "When you call the method mean,the API will calculate the mean and return the value.\n"
   ]
  },
  {
   "cell_type": "code",
   "execution_count": 7,
   "metadata": {
    "collapsed": false,
    "jupyter": {
     "outputs_hidden": false
    }
   },
   "outputs": [
    {
     "data": {
      "text/plain": [
       "a    21.0\n",
       "b    22.0\n",
       "dtype: float64"
      ]
     },
     "execution_count": 7,
     "metadata": {},
     "output_type": "execute_result"
    }
   ],
   "source": [
    "df.mean()"
   ]
  },
  {
   "cell_type": "markdown",
   "metadata": {},
   "source": [
    "<h2 id=\"ref1\">REST APIs</h2>\n"
   ]
  },
  {
   "cell_type": "markdown",
   "metadata": {},
   "source": [
    "Rest API’s function by sending a request,  the request is communicated via HTTP message. The HTTP message usually contains a JSON file. This contains instructions for what operation we would like the service or resource to perform. In a similar manner, API returns a response, via an HTTP message, this response is usually contained within a JSON.\n",
    "\n",
    "In cryptocurrency a popular method to display the movements of the price of a currency.\n",
    "\n",
    "![Example Candlestick Graph](https://cf-courses-data.s3.us.cloud-object-storage.appdomain.cloud/IBMDeveloperSkillsNetwork-PY0101EN-SkillsNetwork/labs/Module%205/candlestick.png)\n",
    "\n",
    "Here is a description of the candle sticks.\n",
    "\n",
    "<img src=\"https://cf-courses-data.s3.us.cloud-object-storage.appdomain.cloud/IBMDeveloperSkillsNetwork-PY0101EN-SkillsNetwork/labs/Module%205/explanation.png\" alt=\"Candle Stick Definition\" width=\"800\" height=\"600\">\n",
    "\n",
    "In this lab, we will be using the <a href=https://www.coingecko.com/en/api>CoinGecko API</a> to create one of these candlestick graphs for Bitcoin. We will use the API to get the price data for 30 days with 24 observation per day, 1 per hour. We will find the max, min, open, and close price per day meaning we will have 30 candlesticks and use that to generate the candlestick graph. Although we are using the CoinGecko API we will use a Python client/wrapper for the API called <a href=https://github.com/man-c/pycoingecko>PyCoinGecko</a>. PyCoinGecko will make performing the requests easy and it will deal with the enpoint targeting.\n"
   ]
  },
  {
   "cell_type": "markdown",
   "metadata": {},
   "source": [
    "Lets start off by getting the data we need. Using the <code>get_coin_market_chart_by_id(id, vs_currency, days)</code>. <code>id</code> is the name of the coin you want, <code>vs_currency</code> is the currency you want the price in, and <code>days</code> is how many days back from today you want.\n"
   ]
  },
  {
   "cell_type": "code",
   "execution_count": 8,
   "metadata": {},
   "outputs": [],
   "source": [
    "cg = CoinGeckoAPI()\n",
    "\n",
    "bitcoin_data = cg.get_coin_market_chart_by_id(id='bitcoin', vs_currency='usd', days=30)"
   ]
  },
  {
   "cell_type": "code",
   "execution_count": 9,
   "metadata": {},
   "outputs": [
    {
     "data": {
      "text/plain": [
       "dict"
      ]
     },
     "execution_count": 9,
     "metadata": {},
     "output_type": "execute_result"
    }
   ],
   "source": [
    "type(bitcoin_data )"
   ]
  },
  {
   "cell_type": "markdown",
   "metadata": {},
   "source": [
    "The response we get is in the form of a JSON which includes the price, market caps, and total volumes along with timestamps for each observation. We are focused on the prices so we will select that data.\n"
   ]
  },
  {
   "cell_type": "code",
   "execution_count": 10,
   "metadata": {},
   "outputs": [
    {
     "data": {
      "text/plain": [
       "[[1617063151785, 57541.493889485166],\n",
       " [1617066190645, 57568.89737881677],\n",
       " [1617069989206, 57367.62505892605],\n",
       " [1617073345450, 57257.45173879713],\n",
       " [1617076917393, 57168.37695431903]]"
      ]
     },
     "execution_count": 10,
     "metadata": {},
     "output_type": "execute_result"
    }
   ],
   "source": [
    "bitcoin_price_data = bitcoin_data['prices']\n",
    "\n",
    "bitcoin_price_data[0:5]"
   ]
  },
  {
   "cell_type": "markdown",
   "metadata": {},
   "source": [
    "Finally lets turn this data into a Pandas DataFrame.\n"
   ]
  },
  {
   "cell_type": "code",
   "execution_count": 11,
   "metadata": {},
   "outputs": [],
   "source": [
    "data = pd.DataFrame(bitcoin_price_data, columns=['TimeStamp', 'Price'])"
   ]
  },
  {
   "cell_type": "markdown",
   "metadata": {},
   "source": [
    "Now that we have the DataFrame we will convert the timestamp to datetime and save it as a column called <code>Date</code>. We will map our <code>unix_to_datetime</code> to each timestamp and convert it to a readable datetime.\n"
   ]
  },
  {
   "cell_type": "code",
   "execution_count": 15,
   "metadata": {},
   "outputs": [],
   "source": [
    "data['Date'] = pd.to_datetime(data['TimeStamp'], unit='ms')"
   ]
  },
  {
   "cell_type": "markdown",
   "metadata": {},
   "source": [
    "Using this modified dataset we can now group by the <code>Date</code> and find the min, max, open, and close for the candlesticks.\n"
   ]
  },
  {
   "cell_type": "code",
   "execution_count": 16,
   "metadata": {},
   "outputs": [],
   "source": [
    "candlestick_data = data.groupby(data.Date.dt.date, as_index=False).agg({\"Price\": ['min', 'max', 'first', 'last']})"
   ]
  },
  {
   "cell_type": "markdown",
   "metadata": {},
   "source": [
    "Finally we are now ready to use plotly to create our Candlestick Chart.\n"
   ]
  },
  {
   "cell_type": "code",
   "execution_count": 17,
   "metadata": {},
   "outputs": [
    {
     "data": {
      "application/vnd.plotly.v1+json": {
       "config": {
        "plotlyServerURL": "https://plot.ly"
       },
       "data": [
        {
         "close": [
          58670.185194064696,
          58659.81607908696,
          58941.76510849229,
          58893.001117410044,
          57841.846706724886,
          58120.98745488823,
          58890.42933312271,
          57990.630038086194,
          56495.771344222034,
          57925.518780866594,
          58057.37194756994,
          59181.335951811874,
          60062.539344026925,
          60091.49024165346,
          63233.94854744293,
          62945.15635224032,
          63298.547035700794,
          61593.4982169017,
          60648.40893698985,
          56670.41354200482,
          55994.538581809444,
          56361.42179426308,
          54188.54026961438,
          51599.318819053995,
          50592.384606887106,
          50601.95214099316,
          48826.52065650017,
          53589.6752998928,
          54997.291345118225,
          54462.38634298567,
          54818.835377980606
         ],
         "high": [
          59370.77224252133,
          59749.04456614096,
          59205.02016179689,
          60086.89754589551,
          59528.37892164109,
          58183.71202960251,
          59025.62077552239,
          59037.33545469934,
          58296.35781501513,
          57957.14832967089,
          58563.585721537915,
          60865.80211839993,
          60442.84904777686,
          60774.26126925519,
          63539.782572281576,
          64594.9938985327,
          63604.37720073516,
          63467.43001569091,
          62447.66062948038,
          60096.092319232026,
          57415.21455726408,
          56848.944561761615,
          56453.9117695551,
          55042.15626412489,
          51965.5664304852,
          51191.1246964079,
          50510.96535053292,
          54315.67773597412,
          55473.0657777974,
          55530.513360661644,
          54818.835377980606
         ],
         "low": [
          57168.37695431903,
          57827.356226587064,
          58419.910794038595,
          58694.958404414356,
          57672.79807432743,
          57008.11352582882,
          57076.96249690862,
          57846.95949107808,
          56039.83051439416,
          56134.41738866435,
          57806.29874959166,
          58089.16926938455,
          59402.940555124434,
          59671.33641024264,
          59896.1663501267,
          62020.81382429886,
          62320.26566265919,
          60497.97225721784,
          60463.71036082847,
          53575.419115061675,
          54759.80696609703,
          53911.961077029024,
          54188.54026961438,
          51502.48187667513,
          47984.98190714404,
          48985.689867411566,
          47409.78302911801,
          48981.4413932161,
          53456.0913723206,
          54135.005312343856,
          54810.6138506792
         ],
         "open": [
          57541.493889485166,
          58668.628336761,
          58772.18128166619,
          58749.22565086035,
          59528.37892164109,
          57008.11352582882,
          58228.802623466196,
          58833.186957538484,
          58013.39701271109,
          56134.41738866435,
          58065.644024815316,
          58136.267623707194,
          59787.312335644245,
          60076.17415341904,
          59896.1663501267,
          63576.676041048275,
          62807.12323259299,
          63207.55307317802,
          61441.479447519494,
          60096.092319232026,
          56051.19482986827,
          55721.166052695626,
          56453.9117695551,
          54190.07026283405,
          51965.5664304852,
          51191.1246964079,
          50133.1073963654,
          48981.4413932161,
          54019.26878317463,
          54991.81484262107,
          54810.6138506792
         ],
         "type": "candlestick",
         "x": [
          "2021-03-30T00:12:31.785000",
          "2021-03-30T01:03:10.645000",
          "2021-03-30T02:06:29.206000",
          "2021-03-30T03:02:25.450000",
          "2021-03-30T04:01:57.393000",
          "2021-03-30T05:16:38.730000",
          "2021-03-30T06:15:24.632000",
          "2021-03-30T07:13:17.937000",
          "2021-03-30T08:01:36.417000",
          "2021-03-30T09:18:29.177000",
          "2021-03-30T10:17:30.146000",
          "2021-03-30T11:03:48.966000",
          "2021-03-30T12:08:11.711000",
          "2021-03-30T13:17:42.532000",
          "2021-03-30T14:05:44.250000",
          "2021-03-30T15:20:17.213000",
          "2021-03-30T16:09:14.726000",
          "2021-03-30T17:10:06.604000",
          "2021-03-30T18:20:49.903000",
          "2021-03-30T19:11:49.300000",
          "2021-03-30T20:07:40.533000",
          "2021-03-30T21:12:11.266000",
          "2021-03-30T22:06:44.697000",
          "2021-03-30T23:22:49.750000",
          "2021-03-31T00:03:50.895000",
          "2021-03-31T01:13:32.294000",
          "2021-03-31T02:12:46.729000",
          "2021-03-31T03:18:57.753000",
          "2021-03-31T04:13:38.834000",
          "2021-03-31T05:04:10.380000",
          "2021-03-31T06:13:30.507000",
          "2021-03-31T07:17:50.790000",
          "2021-03-31T08:36:18.318000",
          "2021-03-31T09:17:46.092000",
          "2021-03-31T10:02:40.799000",
          "2021-03-31T11:19:00.784000",
          "2021-03-31T12:06:23.625000",
          "2021-03-31T13:18:41.671000",
          "2021-03-31T14:12:59.871000",
          "2021-03-31T15:13:12.186000",
          "2021-03-31T16:04:57.727000",
          "2021-03-31T17:10:20.877000",
          "2021-03-31T18:07:57.919000",
          "2021-03-31T19:14:13.085000",
          "2021-03-31T20:20:20.274000",
          "2021-03-31T21:02:19.506000",
          "2021-03-31T22:19:55.967000",
          "2021-03-31T23:04:44.037000",
          "2021-04-01T00:07:25.796000",
          "2021-04-01T01:01:23.818000",
          "2021-04-01T02:19:11.992000",
          "2021-04-01T03:10:54.378000",
          "2021-04-01T04:08:18.917000",
          "2021-04-01T05:13:15.987000",
          "2021-04-01T06:10:26.896000",
          "2021-04-01T07:09:21.273000",
          "2021-04-01T08:02:04.564000",
          "2021-04-01T09:05:20.011000",
          "2021-04-01T10:01:10.041000",
          "2021-04-01T11:18:25.591000",
          "2021-04-01T12:13:42.759000",
          "2021-04-01T13:17:09.260000",
          "2021-04-01T14:10:42.115000",
          "2021-04-01T15:14:39.854000",
          "2021-04-01T16:11:14.324000",
          "2021-04-01T17:17:39.658000",
          "2021-04-01T18:19:34.097000",
          "2021-04-01T19:17:09.938000",
          "2021-04-01T20:00:48.425000",
          "2021-04-01T21:14:52.196000",
          "2021-04-01T22:10:51.384000",
          "2021-04-01T23:18:12.425000",
          "2021-04-02T00:19:07.251000",
          "2021-04-02T01:06:12.590000",
          "2021-04-02T02:06:46.376000",
          "2021-04-02T03:13:26.284000",
          "2021-04-02T04:06:54.247000",
          "2021-04-02T05:02:21.861000",
          "2021-04-02T06:01:57.637000",
          "2021-04-02T07:17:54.924000",
          "2021-04-02T08:18:52.469000",
          "2021-04-02T09:15:38.442000",
          "2021-04-02T10:30:41.974000",
          "2021-04-02T11:03:07.036000",
          "2021-04-02T12:08:56.451000",
          "2021-04-02T13:14:25.342000",
          "2021-04-02T14:05:58.222000",
          "2021-04-02T15:16:37.093000",
          "2021-04-02T16:11:06.125000",
          "2021-04-02T17:02:06.554000",
          "2021-04-02T18:09:27.819000",
          "2021-04-02T19:02:38.842000",
          "2021-04-02T20:02:27.051000",
          "2021-04-02T21:01:21.964000",
          "2021-04-02T22:10:51.583000",
          "2021-04-02T23:01:21.989000",
          "2021-04-03T00:28:46.836000",
          "2021-04-03T01:03:55.470000",
          "2021-04-03T02:13:00.643000",
          "2021-04-03T03:04:40.079000",
          "2021-04-03T04:26:52.999000",
          "2021-04-03T05:14:02.032000",
          "2021-04-03T06:02:04.170000",
          "2021-04-03T07:07:47.443000",
          "2021-04-03T08:07:52.135000",
          "2021-04-03T09:11:03.755000",
          "2021-04-03T10:03:44.902000",
          "2021-04-03T11:13:41.265000",
          "2021-04-03T12:12:54.389000",
          "2021-04-03T13:02:36.111000",
          "2021-04-03T14:01:45.822000",
          "2021-04-03T15:07:12.313000",
          "2021-04-03T16:13:26.142000",
          "2021-04-03T17:05:35.587000",
          "2021-04-03T18:08:32.481000",
          "2021-04-03T19:03:20.222000",
          "2021-04-03T20:02:04.803000",
          "2021-04-03T21:02:31.714000",
          "2021-04-03T22:07:00.749000",
          "2021-04-03T23:02:28.104000",
          "2021-04-04T00:09:27.288000",
          "2021-04-04T01:24:24.555000",
          "2021-04-04T02:31:59.510000",
          "2021-04-04T03:37:18.359000",
          "2021-04-04T04:32:05.477000",
          "2021-04-04T05:02:10.592000",
          "2021-04-04T06:03:04.924000",
          "2021-04-04T07:01:39.291000",
          "2021-04-04T08:03:50.230000",
          "2021-04-04T09:01:27.410000",
          "2021-04-04T10:01:32.127000",
          "2021-04-04T11:05:45.051000",
          "2021-04-04T12:01:58.041000",
          "2021-04-04T13:04:31.040000",
          "2021-04-04T14:03:38.116000",
          "2021-04-04T15:06:17.105000",
          "2021-04-04T16:07:33.629000",
          "2021-04-04T17:03:12.369000",
          "2021-04-04T18:01:18.598000",
          "2021-04-04T19:03:30.833000",
          "2021-04-04T20:03:55.263000",
          "2021-04-04T21:05:30.282000",
          "2021-04-04T22:02:17.649000",
          "2021-04-04T23:04:24.292000",
          "2021-04-05T00:05:02.876000",
          "2021-04-05T01:01:48.137000",
          "2021-04-05T02:01:33.176000",
          "2021-04-05T03:02:50.029000",
          "2021-04-05T04:02:00.295000",
          "2021-04-05T05:05:57.738000",
          "2021-04-05T06:01:53.434000",
          "2021-04-05T07:04:36.448000",
          "2021-04-05T08:05:03.254000",
          "2021-04-05T09:02:17.542000",
          "2021-04-05T10:08:29.725000",
          "2021-04-05T11:07:31.328000",
          "2021-04-05T12:06:34.822000",
          "2021-04-05T13:02:03.529000",
          "2021-04-05T14:00:45.919000",
          "2021-04-05T15:03:17.096000",
          "2021-04-05T16:01:04.443000",
          "2021-04-05T17:03:30.396000",
          "2021-04-05T18:04:26.889000",
          "2021-04-05T19:01:54.803000",
          "2021-04-05T20:02:39.467000",
          "2021-04-05T21:03:23.399000",
          "2021-04-05T22:04:24.773000",
          "2021-04-05T23:05:05.558000",
          "2021-04-06T00:04:53.830000",
          "2021-04-06T01:31:57.177000",
          "2021-04-06T02:03:08.102000",
          "2021-04-06T03:01:16.379000",
          "2021-04-06T04:00:29.319000",
          "2021-04-06T05:05:09.685000",
          "2021-04-06T06:04:19.020000",
          "2021-04-06T07:02:24.445000",
          "2021-04-06T08:06:44.404000",
          "2021-04-06T09:05:03.949000",
          "2021-04-06T10:03:58.437000",
          "2021-04-06T11:03:54.510000",
          "2021-04-06T12:02:12.087000",
          "2021-04-06T13:04:31.898000",
          "2021-04-06T14:05:44.437000",
          "2021-04-06T15:04:39.980000",
          "2021-04-06T16:02:47.811000",
          "2021-04-06T17:06:10.233000",
          "2021-04-06T18:06:24.643000",
          "2021-04-06T19:06:15.341000",
          "2021-04-06T20:01:30.391000",
          "2021-04-06T21:01:47.406000",
          "2021-04-06T22:06:55.588000",
          "2021-04-06T23:02:49.915000",
          "2021-04-07T00:09:01.720000",
          "2021-04-07T01:03:01.948000",
          "2021-04-07T02:03:47.788000",
          "2021-04-07T03:04:57.270000",
          "2021-04-07T04:02:17.159000",
          "2021-04-07T05:04:03.193000",
          "2021-04-07T06:04:15.622000",
          "2021-04-07T07:04:01.148000",
          "2021-04-07T08:01:57.775000",
          "2021-04-07T09:02:51.269000",
          "2021-04-07T10:06:23.349000",
          "2021-04-07T11:05:33.771000",
          "2021-04-07T12:02:37.648000",
          "2021-04-07T13:07:40.567000",
          "2021-04-07T14:06:52.316000",
          "2021-04-07T15:01:22.087000",
          "2021-04-07T16:07:00.156000",
          "2021-04-07T17:05:19.127000",
          "2021-04-07T18:04:23.110000",
          "2021-04-07T19:02:45.641000",
          "2021-04-07T20:01:41.377000",
          "2021-04-07T21:07:05.369000",
          "2021-04-07T22:01:27.344000",
          "2021-04-07T23:01:51.453000",
          "2021-04-08T00:05:05.905000",
          "2021-04-08T01:04:57.129000",
          "2021-04-08T02:07:48.329000",
          "2021-04-08T02:45:11.898000",
          "2021-04-08T03:21:02.936000",
          "2021-04-08T04:06:59.655000",
          "2021-04-08T05:02:15.400000",
          "2021-04-08T06:12:01.266000",
          "2021-04-08T07:06:35.799000",
          "2021-04-08T08:02:19.834000",
          "2021-04-08T09:04:55.579000",
          "2021-04-08T10:05:18.306000",
          "2021-04-08T11:07:24.757000",
          "2021-04-08T12:01:16.956000",
          "2021-04-08T13:06:16.904000",
          "2021-04-08T14:02:23.465000",
          "2021-04-08T15:04:11.421000",
          "2021-04-08T16:03:11.204000",
          "2021-04-08T17:01:55.072000",
          "2021-04-08T18:02:11.469000",
          "2021-04-08T19:05:59.730000",
          "2021-04-08T20:02:48.837000",
          "2021-04-08T21:06:46.984000",
          "2021-04-08T22:05:18.586000",
          "2021-04-08T23:09:38.495000",
          "2021-04-09T00:01:58.358000",
          "2021-04-09T01:03:51.697000",
          "2021-04-09T02:03:37.953000",
          "2021-04-09T03:02:45.249000",
          "2021-04-09T04:05:00.974000",
          "2021-04-09T05:02:47.637000",
          "2021-04-09T06:04:43.942000",
          "2021-04-09T07:01:03.094000",
          "2021-04-09T08:04:10.198000",
          "2021-04-09T09:04:29.243000",
          "2021-04-09T10:05:22.232000",
          "2021-04-09T11:02:35.377000",
          "2021-04-09T12:08:59.903000",
          "2021-04-09T13:03:47.352000",
          "2021-04-09T14:14:08.498000",
          "2021-04-09T15:06:25.376000",
          "2021-04-09T16:04:06.189000",
          "2021-04-09T17:07:40.532000",
          "2021-04-09T18:02:04.458000",
          "2021-04-09T19:02:05.433000",
          "2021-04-09T20:06:44.447000",
          "2021-04-09T21:02:44.550000",
          "2021-04-09T22:07:23.750000",
          "2021-04-09T23:06:57.562000",
          "2021-04-10T00:05:35.549000",
          "2021-04-10T01:05:00.568000",
          "2021-04-10T02:01:21.341000",
          "2021-04-10T03:01:03.776000",
          "2021-04-10T04:05:28.289000",
          "2021-04-10T05:07:02.241000",
          "2021-04-10T06:01:47.438000",
          "2021-04-10T07:04:00.991000",
          "2021-04-10T08:07:14.459000",
          "2021-04-10T09:06:25.027000",
          "2021-04-10T10:01:03.130000",
          "2021-04-10T11:01:51.635000",
          "2021-04-10T12:02:04.534000",
          "2021-04-10T13:04:57.067000",
          "2021-04-10T14:07:09.386000",
          "2021-04-10T15:04:18.987000",
          "2021-04-10T16:03:22.235000",
          "2021-04-10T17:04:24.346000",
          "2021-04-10T18:07:21.464000",
          "2021-04-10T19:04:33.787000",
          "2021-04-10T20:09:45.807000",
          "2021-04-10T21:05:05.433000",
          "2021-04-10T22:04:19.551000",
          "2021-04-10T23:04:05.817000",
          "2021-04-11T00:09:10.754000",
          "2021-04-11T01:04:03.488000",
          "2021-04-11T02:02:10.808000",
          "2021-04-11T03:02:08.905000",
          "2021-04-11T04:02:55.695000",
          "2021-04-11T05:02:37.204000",
          "2021-04-11T06:06:48.549000",
          "2021-04-11T07:02:18.536000",
          "2021-04-11T08:06:41.016000",
          "2021-04-11T09:03:31.677000",
          "2021-04-11T10:04:00.044000",
          "2021-04-11T11:05:43.839000",
          "2021-04-11T12:03:34.598000",
          "2021-04-11T13:01:44.742000",
          "2021-04-11T14:03:47.805000",
          "2021-04-11T15:01:50.592000",
          "2021-04-11T16:02:52.784000",
          "2021-04-11T17:01:01.181000",
          "2021-04-11T18:02:42.056000",
          "2021-04-11T19:05:21.722000",
          "2021-04-11T20:05:04.904000",
          "2021-04-11T21:01:32.679000",
          "2021-04-11T22:01:26.313000",
          "2021-04-11T23:06:09.803000",
          "2021-04-12T00:05:46.471000",
          "2021-04-12T01:00:52.755000",
          "2021-04-12T02:01:07.799000",
          "2021-04-12T03:01:49.663000",
          "2021-04-12T04:06:15.714000",
          "2021-04-12T05:03:04.356000",
          "2021-04-12T06:08:24.815000",
          "2021-04-12T07:06:18.699000",
          "2021-04-12T08:02:26.811000",
          "2021-04-12T09:07:25.849000",
          "2021-04-12T10:01:02.708000",
          "2021-04-12T11:04:33.056000",
          "2021-04-12T12:06:03.863000",
          "2021-04-12T13:08:22.097000",
          "2021-04-12T14:04:56.719000",
          "2021-04-12T15:06:16.621000",
          "2021-04-12T16:06:36.981000",
          "2021-04-12T17:04:23.013000",
          "2021-04-12T18:06:17.082000",
          "2021-04-12T19:07:23.436000",
          "2021-04-12T20:00:45.089000",
          "2021-04-12T21:03:59.665000",
          "2021-04-12T22:09:55.682000",
          "2021-04-12T23:06:20.138000",
          "2021-04-13T00:02:45.405000",
          "2021-04-13T01:07:09.311000",
          "2021-04-13T02:04:20.878000",
          "2021-04-13T03:05:20.815000",
          "2021-04-13T04:05:44.216000",
          "2021-04-13T05:02:52.070000",
          "2021-04-13T06:14:03.828000",
          "2021-04-13T07:04:14.159000",
          "2021-04-13T08:03:23.611000",
          "2021-04-13T09:04:56.724000",
          "2021-04-13T10:11:56.961000",
          "2021-04-13T11:09:11.941000",
          "2021-04-13T12:01:42.758000",
          "2021-04-13T13:03:33.315000",
          "2021-04-13T14:07:47.335000",
          "2021-04-13T15:01:41.733000",
          "2021-04-13T16:05:24.005000",
          "2021-04-13T17:05:37.848000",
          "2021-04-13T18:08:35.950000",
          "2021-04-13T19:03:58.154000",
          "2021-04-13T20:04:51.450000",
          "2021-04-13T21:04:55.997000",
          "2021-04-13T22:07:20.232000",
          "2021-04-13T23:01:43.364000",
          "2021-04-14T00:04:49.100000",
          "2021-04-14T01:08:25.991000",
          "2021-04-14T02:01:45.070000",
          "2021-04-14T03:07:06.007000",
          "2021-04-14T04:02:49.554000",
          "2021-04-14T05:06:57.135000",
          "2021-04-14T06:01:28.829000",
          "2021-04-14T07:02:32.884000",
          "2021-04-14T08:10:31.335000",
          "2021-04-14T09:07:51.597000",
          "2021-04-14T10:09:36.401000",
          "2021-04-14T11:10:21.536000",
          "2021-04-14T12:09:10.234000",
          "2021-04-14T13:10:34.965000",
          "2021-04-14T14:03:30.413000",
          "2021-04-14T15:04:06.629000",
          "2021-04-14T16:02:40.904000",
          "2021-04-14T17:05:21.551000",
          "2021-04-14T18:07:54.308000",
          "2021-04-14T19:03:26.676000",
          "2021-04-14T20:07:47.816000",
          "2021-04-14T21:09:40.169000",
          "2021-04-14T22:01:08.942000",
          "2021-04-14T23:06:02.269000",
          "2021-04-15T00:02:17.479000",
          "2021-04-15T01:03:42.419000",
          "2021-04-15T02:04:17.369000",
          "2021-04-15T03:05:27.482000",
          "2021-04-15T04:04:00.264000",
          "2021-04-15T05:02:53.214000",
          "2021-04-15T06:05:06.096000",
          "2021-04-15T07:02:54.569000",
          "2021-04-15T08:02:27.129000",
          "2021-04-15T09:04:29.052000",
          "2021-04-15T10:04:52.336000",
          "2021-04-15T11:03:50.546000",
          "2021-04-15T12:07:35.444000",
          "2021-04-15T13:10:00.343000",
          "2021-04-15T14:01:04.903000",
          "2021-04-15T15:04:13.863000",
          "2021-04-15T16:34:51.663000",
          "2021-04-15T17:09:28.120000",
          "2021-04-15T18:01:02.072000",
          "2021-04-15T19:02:26.341000",
          "2021-04-15T20:02:57.103000",
          "2021-04-15T21:04:15.322000",
          "2021-04-15T22:02:07.145000",
          "2021-04-15T23:06:25.431000",
          "2021-04-16T00:05:30.730000",
          "2021-04-16T01:08:26.273000",
          "2021-04-16T02:04:51.392000",
          "2021-04-16T03:05:59.660000",
          "2021-04-16T04:05:28.262000",
          "2021-04-16T05:11:28.018000",
          "2021-04-16T06:16:07.074000",
          "2021-04-16T07:02:54.219000",
          "2021-04-16T08:02:31.734000",
          "2021-04-16T09:30:45.037000",
          "2021-04-16T10:01:54.247000",
          "2021-04-16T11:20:31.657000",
          "2021-04-16T12:11:44.991000",
          "2021-04-16T13:08:01.013000",
          "2021-04-16T14:04:56.185000",
          "2021-04-16T15:03:50.180000",
          "2021-04-16T16:09:40.744000",
          "2021-04-16T17:05:55.128000",
          "2021-04-16T18:01:21.929000",
          "2021-04-16T19:10:52.444000",
          "2021-04-16T20:09:11.659000",
          "2021-04-16T21:02:35.333000",
          "2021-04-16T22:11:03.218000",
          "2021-04-16T23:05:57.415000",
          "2021-04-17T00:06:40.894000",
          "2021-04-17T01:03:43.176000",
          "2021-04-17T02:08:12.971000",
          "2021-04-17T03:05:46.996000",
          "2021-04-17T04:01:11.484000",
          "2021-04-17T05:09:13.001000",
          "2021-04-17T06:05:24.132000",
          "2021-04-17T07:04:47.045000",
          "2021-04-17T08:03:51.043000",
          "2021-04-17T09:02:29.155000",
          "2021-04-17T10:10:49.826000",
          "2021-04-17T11:39:17.592000",
          "2021-04-17T12:48:49.108000",
          "2021-04-17T13:57:26.533000",
          "2021-04-17T15:16:31.059000",
          "2021-04-17T16:42:28.537000",
          "2021-04-17T18:11:08.345000",
          "2021-04-17T19:43:48.059000",
          "2021-04-17T20:06:00.693000",
          "2021-04-17T20:46:39.793000",
          "2021-04-17T22:29:17.153000",
          "2021-04-17T23:23:36.468000",
          "2021-04-18T00:04:13.949000",
          "2021-04-18T00:36:02.747000",
          "2021-04-18T01:19:11.634000",
          "2021-04-18T02:11:32.533000",
          "2021-04-18T02:43:31.617000",
          "2021-04-18T03:26:15.938000",
          "2021-04-18T04:10:31.920000",
          "2021-04-18T04:56:20.084000",
          "2021-04-18T05:37:23.674000",
          "2021-04-18T06:22:18.764000",
          "2021-04-18T07:06:25.175000",
          "2021-04-18T08:06:40.718000",
          "2021-04-18T09:07:20.009000",
          "2021-04-18T10:06:53.492000",
          "2021-04-18T11:03:41.562000",
          "2021-04-18T12:08:06.508000",
          "2021-04-18T13:08:19.042000",
          "2021-04-18T14:02:20.251000",
          "2021-04-18T15:22:21.817000",
          "2021-04-18T16:03:05.235000",
          "2021-04-18T17:13:44.662000",
          "2021-04-18T18:00:35.817000",
          "2021-04-18T19:05:33.078000",
          "2021-04-18T20:12:41.171000",
          "2021-04-18T21:06:13.048000",
          "2021-04-18T22:33:10.693000",
          "2021-04-18T23:03:13.756000",
          "2021-04-19T00:16:36.238000",
          "2021-04-19T01:22:11.265000",
          "2021-04-19T02:08:26.128000",
          "2021-04-19T03:03:26.550000",
          "2021-04-19T04:30:04.533000",
          "2021-04-19T05:20:42.939000",
          "2021-04-19T06:13:27.284000",
          "2021-04-19T07:14:34.975000",
          "2021-04-19T08:26:40.810000",
          "2021-04-19T09:00:55.657000",
          "2021-04-19T10:06:56.669000",
          "2021-04-19T11:03:08.694000",
          "2021-04-19T12:27:36.237000",
          "2021-04-19T13:31:32.998000",
          "2021-04-19T14:43:06.855000",
          "2021-04-19T15:06:00.119000",
          "2021-04-19T16:05:47.669000",
          "2021-04-19T17:01:24.107000",
          "2021-04-19T18:24:06.990000",
          "2021-04-19T19:02:41.081000",
          "2021-04-19T20:06:21.336000",
          "2021-04-19T21:02:45.654000",
          "2021-04-19T22:02:14.067000",
          "2021-04-19T23:26:49.673000",
          "2021-04-20T00:03:57.441000",
          "2021-04-20T01:08:23.891000",
          "2021-04-20T02:11:47.082000",
          "2021-04-20T03:32:38.955000",
          "2021-04-20T04:53:25.062000",
          "2021-04-20T05:14:15.074000",
          "2021-04-20T06:01:08.429000",
          "2021-04-20T07:04:22.816000",
          "2021-04-20T08:03:04.333000",
          "2021-04-20T09:05:39.344000",
          "2021-04-20T10:05:51.871000",
          "2021-04-20T11:01:26.612000",
          "2021-04-20T12:05:31.574000",
          "2021-04-20T13:11:17.787000",
          "2021-04-20T14:01:30.976000",
          "2021-04-20T15:01:22.373000",
          "2021-04-20T16:01:42.974000",
          "2021-04-20T17:04:15.951000",
          "2021-04-20T18:04:38.560000",
          "2021-04-20T19:06:59.538000",
          "2021-04-20T20:02:43.574000",
          "2021-04-20T21:03:33.047000",
          "2021-04-20T22:03:57.846000",
          "2021-04-20T23:04:27.648000",
          "2021-04-21T00:05:58.866000",
          "2021-04-21T01:03:03.263000",
          "2021-04-21T02:02:29.614000",
          "2021-04-21T03:02:23.581000",
          "2021-04-21T04:03:51.954000",
          "2021-04-21T05:05:43.755000",
          "2021-04-21T06:01:37.898000",
          "2021-04-21T07:06:37.107000",
          "2021-04-21T08:03:18.327000",
          "2021-04-21T09:05:03.386000",
          "2021-04-21T10:03:59.483000",
          "2021-04-21T11:07:00.901000",
          "2021-04-21T12:01:45.661000",
          "2021-04-21T13:12:12.717000",
          "2021-04-21T14:04:06.809000",
          "2021-04-21T15:01:39.852000",
          "2021-04-21T16:03:02.960000",
          "2021-04-21T17:03:32.370000",
          "2021-04-21T18:01:59.603000",
          "2021-04-21T19:01:04.789000",
          "2021-04-21T20:06:18.150000",
          "2021-04-21T21:02:42.624000",
          "2021-04-21T22:03:53.706000",
          "2021-04-21T23:03:56.713000",
          "2021-04-22T00:03:13.658000",
          "2021-04-22T01:02:56.733000",
          "2021-04-22T02:01:51.615000",
          "2021-04-22T03:00:14.082000",
          "2021-04-22T04:32:54.056000",
          "2021-04-22T05:01:21.781000",
          "2021-04-22T06:02:42.108000",
          "2021-04-22T07:06:29.750000",
          "2021-04-22T08:04:51.902000",
          "2021-04-22T09:01:35.581000",
          "2021-04-22T10:01:08.988000",
          "2021-04-22T11:05:00.020000",
          "2021-04-22T12:04:16.895000",
          "2021-04-22T13:09:51.440000",
          "2021-04-22T14:03:20.451000",
          "2021-04-22T15:03:33.427000",
          "2021-04-22T16:03:30.303000",
          "2021-04-22T17:05:37.960000",
          "2021-04-22T18:05:49.601000",
          "2021-04-22T19:02:01.910000",
          "2021-04-22T20:01:55.898000",
          "2021-04-22T21:04:10.905000",
          "2021-04-22T22:00:36.765000",
          "2021-04-22T23:06:36.945000",
          "2021-04-23T00:03:38.749000",
          "2021-04-23T01:03:09.606000",
          "2021-04-23T02:04:40.704000",
          "2021-04-23T03:03:50.812000",
          "2021-04-23T04:04:48.295000",
          "2021-04-23T05:04:32.271000",
          "2021-04-23T06:03:15.713000",
          "2021-04-23T07:01:58.619000",
          "2021-04-23T08:00:56.500000",
          "2021-04-23T09:03:39.920000",
          "2021-04-23T10:05:33.918000",
          "2021-04-23T11:05:04.532000",
          "2021-04-23T12:04:40.948000",
          "2021-04-23T13:07:46.186000",
          "2021-04-23T14:03:32.314000",
          "2021-04-23T15:04:59.624000",
          "2021-04-23T16:08:34.344000",
          "2021-04-23T17:00:30.766000",
          "2021-04-23T18:06:06.240000",
          "2021-04-23T19:05:30.110000",
          "2021-04-23T20:04:55.261000",
          "2021-04-23T21:04:31.630000",
          "2021-04-23T22:05:05.303000",
          "2021-04-23T23:02:16.890000",
          "2021-04-24T00:05:06.360000",
          "2021-04-24T01:05:23.327000",
          "2021-04-24T02:02:44.541000",
          "2021-04-24T03:03:10.138000",
          "2021-04-24T04:00:41.546000",
          "2021-04-24T05:04:25.055000",
          "2021-04-24T06:06:14.330000",
          "2021-04-24T07:03:11.088000",
          "2021-04-24T08:06:12.586000",
          "2021-04-24T09:02:41.797000",
          "2021-04-24T10:04:19.114000",
          "2021-04-24T11:03:02.925000",
          "2021-04-24T12:03:08.328000",
          "2021-04-24T13:08:33.348000",
          "2021-04-24T14:04:22.599000",
          "2021-04-24T15:02:12.511000",
          "2021-04-24T16:03:34.140000",
          "2021-04-24T17:02:47.101000",
          "2021-04-24T18:03:31.230000",
          "2021-04-24T19:03:03.323000",
          "2021-04-24T20:04:05.030000",
          "2021-04-24T21:04:20.449000",
          "2021-04-24T22:04:29.284000",
          "2021-04-24T23:02:46.767000",
          "2021-04-25T00:04:09.010000",
          "2021-04-25T01:05:06.065000",
          "2021-04-25T02:00:33.833000",
          "2021-04-25T03:00:29.533000",
          "2021-04-25T04:02:48.828000",
          "2021-04-25T05:05:23.202000",
          "2021-04-25T06:02:51.768000",
          "2021-04-25T07:03:39.572000",
          "2021-04-25T08:01:50.604000",
          "2021-04-25T09:05:37.576000",
          "2021-04-25T10:05:19.779000",
          "2021-04-25T11:03:57.597000",
          "2021-04-25T12:04:06.962000",
          "2021-04-25T13:11:15.773000",
          "2021-04-25T14:18:45.126000",
          "2021-04-25T15:02:08.550000",
          "2021-04-25T16:04:23.560000",
          "2021-04-25T17:04:19.351000",
          "2021-04-25T18:05:55.542000",
          "2021-04-25T19:05:39.676000",
          "2021-04-25T20:04:40.719000",
          "2021-04-25T21:02:46.226000",
          "2021-04-25T22:03:40.980000",
          "2021-04-25T23:02:53.137000",
          "2021-04-26T00:01:13.539000",
          "2021-04-26T01:08:40.750000",
          "2021-04-26T02:04:48.925000",
          "2021-04-26T03:05:06.174000",
          "2021-04-26T04:04:01.573000",
          "2021-04-26T05:04:18.096000",
          "2021-04-26T06:03:29.842000",
          "2021-04-26T07:03:20.347000",
          "2021-04-26T08:06:08.676000",
          "2021-04-26T09:02:24.602000",
          "2021-04-26T10:04:04.231000",
          "2021-04-26T11:04:49.622000",
          "2021-04-26T12:03:21.827000",
          "2021-04-26T13:09:19.295000",
          "2021-04-26T15:00:41.116000",
          "2021-04-26T15:37:29.812000",
          "2021-04-26T16:17:54.624000",
          "2021-04-26T17:04:24.321000",
          "2021-04-26T18:04:00.495000",
          "2021-04-26T19:05:20.030000",
          "2021-04-26T20:05:12.919000",
          "2021-04-26T21:01:09.882000",
          "2021-04-26T22:04:18.281000",
          "2021-04-26T23:05:03.784000",
          "2021-04-27T00:05:44.162000",
          "2021-04-27T01:07:24.418000",
          "2021-04-27T02:02:51.494000",
          "2021-04-27T03:03:04.917000",
          "2021-04-27T04:01:20.871000",
          "2021-04-27T05:03:35.336000",
          "2021-04-27T06:04:15.813000",
          "2021-04-27T07:02:40.808000",
          "2021-04-27T08:06:49.335000",
          "2021-04-27T09:01:14.035000",
          "2021-04-27T10:04:36.133000",
          "2021-04-27T11:04:41.386000",
          "2021-04-27T12:01:23.985000",
          "2021-04-27T13:08:20.472000",
          "2021-04-27T14:19:09.962000",
          "2021-04-27T15:18:33.738000",
          "2021-04-27T16:01:23.223000",
          "2021-04-27T17:04:15.684000",
          "2021-04-27T18:03:19.058000",
          "2021-04-27T19:03:56.144000",
          "2021-04-27T20:01:39.522000",
          "2021-04-27T21:03:10.425000",
          "2021-04-27T22:04:13.064000",
          "2021-04-27T23:02:54.508000",
          "2021-04-28T00:01:06.360000",
          "2021-04-28T01:06:18.018000",
          "2021-04-28T02:04:43.600000",
          "2021-04-28T03:04:07.091000",
          "2021-04-28T04:02:06.531000",
          "2021-04-28T05:03:30.884000",
          "2021-04-28T06:01:27.548000",
          "2021-04-28T07:05:34.439000",
          "2021-04-28T08:02:28.451000",
          "2021-04-28T09:00:04.877000",
          "2021-04-28T10:04:02.295000",
          "2021-04-28T11:04:49.829000",
          "2021-04-28T12:02:54.879000",
          "2021-04-28T13:06:46.445000",
          "2021-04-28T14:02:11.607000",
          "2021-04-28T15:01:27.528000",
          "2021-04-28T16:02:41.462000",
          "2021-04-28T17:02:15.588000",
          "2021-04-28T18:00:15.550000",
          "2021-04-28T19:03:21.053000",
          "2021-04-28T20:01:10.018000",
          "2021-04-28T21:03:28.879000",
          "2021-04-28T22:04:26.821000",
          "2021-04-28T23:04:08.136000",
          "2021-04-29T00:01:30.820000",
          "2021-04-29T00:00:45"
         ]
        }
       ],
       "layout": {
        "autosize": true,
        "template": {
         "data": {
          "bar": [
           {
            "error_x": {
             "color": "#2a3f5f"
            },
            "error_y": {
             "color": "#2a3f5f"
            },
            "marker": {
             "line": {
              "color": "#E5ECF6",
              "width": 0.5
             }
            },
            "type": "bar"
           }
          ],
          "barpolar": [
           {
            "marker": {
             "line": {
              "color": "#E5ECF6",
              "width": 0.5
             }
            },
            "type": "barpolar"
           }
          ],
          "carpet": [
           {
            "aaxis": {
             "endlinecolor": "#2a3f5f",
             "gridcolor": "white",
             "linecolor": "white",
             "minorgridcolor": "white",
             "startlinecolor": "#2a3f5f"
            },
            "baxis": {
             "endlinecolor": "#2a3f5f",
             "gridcolor": "white",
             "linecolor": "white",
             "minorgridcolor": "white",
             "startlinecolor": "#2a3f5f"
            },
            "type": "carpet"
           }
          ],
          "choropleth": [
           {
            "colorbar": {
             "outlinewidth": 0,
             "ticks": ""
            },
            "type": "choropleth"
           }
          ],
          "contour": [
           {
            "colorbar": {
             "outlinewidth": 0,
             "ticks": ""
            },
            "colorscale": [
             [
              0,
              "#0d0887"
             ],
             [
              0.1111111111111111,
              "#46039f"
             ],
             [
              0.2222222222222222,
              "#7201a8"
             ],
             [
              0.3333333333333333,
              "#9c179e"
             ],
             [
              0.4444444444444444,
              "#bd3786"
             ],
             [
              0.5555555555555556,
              "#d8576b"
             ],
             [
              0.6666666666666666,
              "#ed7953"
             ],
             [
              0.7777777777777778,
              "#fb9f3a"
             ],
             [
              0.8888888888888888,
              "#fdca26"
             ],
             [
              1,
              "#f0f921"
             ]
            ],
            "type": "contour"
           }
          ],
          "contourcarpet": [
           {
            "colorbar": {
             "outlinewidth": 0,
             "ticks": ""
            },
            "type": "contourcarpet"
           }
          ],
          "heatmap": [
           {
            "colorbar": {
             "outlinewidth": 0,
             "ticks": ""
            },
            "colorscale": [
             [
              0,
              "#0d0887"
             ],
             [
              0.1111111111111111,
              "#46039f"
             ],
             [
              0.2222222222222222,
              "#7201a8"
             ],
             [
              0.3333333333333333,
              "#9c179e"
             ],
             [
              0.4444444444444444,
              "#bd3786"
             ],
             [
              0.5555555555555556,
              "#d8576b"
             ],
             [
              0.6666666666666666,
              "#ed7953"
             ],
             [
              0.7777777777777778,
              "#fb9f3a"
             ],
             [
              0.8888888888888888,
              "#fdca26"
             ],
             [
              1,
              "#f0f921"
             ]
            ],
            "type": "heatmap"
           }
          ],
          "heatmapgl": [
           {
            "colorbar": {
             "outlinewidth": 0,
             "ticks": ""
            },
            "colorscale": [
             [
              0,
              "#0d0887"
             ],
             [
              0.1111111111111111,
              "#46039f"
             ],
             [
              0.2222222222222222,
              "#7201a8"
             ],
             [
              0.3333333333333333,
              "#9c179e"
             ],
             [
              0.4444444444444444,
              "#bd3786"
             ],
             [
              0.5555555555555556,
              "#d8576b"
             ],
             [
              0.6666666666666666,
              "#ed7953"
             ],
             [
              0.7777777777777778,
              "#fb9f3a"
             ],
             [
              0.8888888888888888,
              "#fdca26"
             ],
             [
              1,
              "#f0f921"
             ]
            ],
            "type": "heatmapgl"
           }
          ],
          "histogram": [
           {
            "marker": {
             "colorbar": {
              "outlinewidth": 0,
              "ticks": ""
             }
            },
            "type": "histogram"
           }
          ],
          "histogram2d": [
           {
            "colorbar": {
             "outlinewidth": 0,
             "ticks": ""
            },
            "colorscale": [
             [
              0,
              "#0d0887"
             ],
             [
              0.1111111111111111,
              "#46039f"
             ],
             [
              0.2222222222222222,
              "#7201a8"
             ],
             [
              0.3333333333333333,
              "#9c179e"
             ],
             [
              0.4444444444444444,
              "#bd3786"
             ],
             [
              0.5555555555555556,
              "#d8576b"
             ],
             [
              0.6666666666666666,
              "#ed7953"
             ],
             [
              0.7777777777777778,
              "#fb9f3a"
             ],
             [
              0.8888888888888888,
              "#fdca26"
             ],
             [
              1,
              "#f0f921"
             ]
            ],
            "type": "histogram2d"
           }
          ],
          "histogram2dcontour": [
           {
            "colorbar": {
             "outlinewidth": 0,
             "ticks": ""
            },
            "colorscale": [
             [
              0,
              "#0d0887"
             ],
             [
              0.1111111111111111,
              "#46039f"
             ],
             [
              0.2222222222222222,
              "#7201a8"
             ],
             [
              0.3333333333333333,
              "#9c179e"
             ],
             [
              0.4444444444444444,
              "#bd3786"
             ],
             [
              0.5555555555555556,
              "#d8576b"
             ],
             [
              0.6666666666666666,
              "#ed7953"
             ],
             [
              0.7777777777777778,
              "#fb9f3a"
             ],
             [
              0.8888888888888888,
              "#fdca26"
             ],
             [
              1,
              "#f0f921"
             ]
            ],
            "type": "histogram2dcontour"
           }
          ],
          "mesh3d": [
           {
            "colorbar": {
             "outlinewidth": 0,
             "ticks": ""
            },
            "type": "mesh3d"
           }
          ],
          "parcoords": [
           {
            "line": {
             "colorbar": {
              "outlinewidth": 0,
              "ticks": ""
             }
            },
            "type": "parcoords"
           }
          ],
          "pie": [
           {
            "automargin": true,
            "type": "pie"
           }
          ],
          "scatter": [
           {
            "marker": {
             "colorbar": {
              "outlinewidth": 0,
              "ticks": ""
             }
            },
            "type": "scatter"
           }
          ],
          "scatter3d": [
           {
            "line": {
             "colorbar": {
              "outlinewidth": 0,
              "ticks": ""
             }
            },
            "marker": {
             "colorbar": {
              "outlinewidth": 0,
              "ticks": ""
             }
            },
            "type": "scatter3d"
           }
          ],
          "scattercarpet": [
           {
            "marker": {
             "colorbar": {
              "outlinewidth": 0,
              "ticks": ""
             }
            },
            "type": "scattercarpet"
           }
          ],
          "scattergeo": [
           {
            "marker": {
             "colorbar": {
              "outlinewidth": 0,
              "ticks": ""
             }
            },
            "type": "scattergeo"
           }
          ],
          "scattergl": [
           {
            "marker": {
             "colorbar": {
              "outlinewidth": 0,
              "ticks": ""
             }
            },
            "type": "scattergl"
           }
          ],
          "scattermapbox": [
           {
            "marker": {
             "colorbar": {
              "outlinewidth": 0,
              "ticks": ""
             }
            },
            "type": "scattermapbox"
           }
          ],
          "scatterpolar": [
           {
            "marker": {
             "colorbar": {
              "outlinewidth": 0,
              "ticks": ""
             }
            },
            "type": "scatterpolar"
           }
          ],
          "scatterpolargl": [
           {
            "marker": {
             "colorbar": {
              "outlinewidth": 0,
              "ticks": ""
             }
            },
            "type": "scatterpolargl"
           }
          ],
          "scatterternary": [
           {
            "marker": {
             "colorbar": {
              "outlinewidth": 0,
              "ticks": ""
             }
            },
            "type": "scatterternary"
           }
          ],
          "surface": [
           {
            "colorbar": {
             "outlinewidth": 0,
             "ticks": ""
            },
            "colorscale": [
             [
              0,
              "#0d0887"
             ],
             [
              0.1111111111111111,
              "#46039f"
             ],
             [
              0.2222222222222222,
              "#7201a8"
             ],
             [
              0.3333333333333333,
              "#9c179e"
             ],
             [
              0.4444444444444444,
              "#bd3786"
             ],
             [
              0.5555555555555556,
              "#d8576b"
             ],
             [
              0.6666666666666666,
              "#ed7953"
             ],
             [
              0.7777777777777778,
              "#fb9f3a"
             ],
             [
              0.8888888888888888,
              "#fdca26"
             ],
             [
              1,
              "#f0f921"
             ]
            ],
            "type": "surface"
           }
          ],
          "table": [
           {
            "cells": {
             "fill": {
              "color": "#EBF0F8"
             },
             "line": {
              "color": "white"
             }
            },
            "header": {
             "fill": {
              "color": "#C8D4E3"
             },
             "line": {
              "color": "white"
             }
            },
            "type": "table"
           }
          ]
         },
         "layout": {
          "annotationdefaults": {
           "arrowcolor": "#2a3f5f",
           "arrowhead": 0,
           "arrowwidth": 1
          },
          "autotypenumbers": "strict",
          "coloraxis": {
           "colorbar": {
            "outlinewidth": 0,
            "ticks": ""
           }
          },
          "colorscale": {
           "diverging": [
            [
             0,
             "#8e0152"
            ],
            [
             0.1,
             "#c51b7d"
            ],
            [
             0.2,
             "#de77ae"
            ],
            [
             0.3,
             "#f1b6da"
            ],
            [
             0.4,
             "#fde0ef"
            ],
            [
             0.5,
             "#f7f7f7"
            ],
            [
             0.6,
             "#e6f5d0"
            ],
            [
             0.7,
             "#b8e186"
            ],
            [
             0.8,
             "#7fbc41"
            ],
            [
             0.9,
             "#4d9221"
            ],
            [
             1,
             "#276419"
            ]
           ],
           "sequential": [
            [
             0,
             "#0d0887"
            ],
            [
             0.1111111111111111,
             "#46039f"
            ],
            [
             0.2222222222222222,
             "#7201a8"
            ],
            [
             0.3333333333333333,
             "#9c179e"
            ],
            [
             0.4444444444444444,
             "#bd3786"
            ],
            [
             0.5555555555555556,
             "#d8576b"
            ],
            [
             0.6666666666666666,
             "#ed7953"
            ],
            [
             0.7777777777777778,
             "#fb9f3a"
            ],
            [
             0.8888888888888888,
             "#fdca26"
            ],
            [
             1,
             "#f0f921"
            ]
           ],
           "sequentialminus": [
            [
             0,
             "#0d0887"
            ],
            [
             0.1111111111111111,
             "#46039f"
            ],
            [
             0.2222222222222222,
             "#7201a8"
            ],
            [
             0.3333333333333333,
             "#9c179e"
            ],
            [
             0.4444444444444444,
             "#bd3786"
            ],
            [
             0.5555555555555556,
             "#d8576b"
            ],
            [
             0.6666666666666666,
             "#ed7953"
            ],
            [
             0.7777777777777778,
             "#fb9f3a"
            ],
            [
             0.8888888888888888,
             "#fdca26"
            ],
            [
             1,
             "#f0f921"
            ]
           ]
          },
          "colorway": [
           "#636efa",
           "#EF553B",
           "#00cc96",
           "#ab63fa",
           "#FFA15A",
           "#19d3f3",
           "#FF6692",
           "#B6E880",
           "#FF97FF",
           "#FECB52"
          ],
          "font": {
           "color": "#2a3f5f"
          },
          "geo": {
           "bgcolor": "white",
           "lakecolor": "white",
           "landcolor": "#E5ECF6",
           "showlakes": true,
           "showland": true,
           "subunitcolor": "white"
          },
          "hoverlabel": {
           "align": "left"
          },
          "hovermode": "closest",
          "mapbox": {
           "style": "light"
          },
          "paper_bgcolor": "white",
          "plot_bgcolor": "#E5ECF6",
          "polar": {
           "angularaxis": {
            "gridcolor": "white",
            "linecolor": "white",
            "ticks": ""
           },
           "bgcolor": "#E5ECF6",
           "radialaxis": {
            "gridcolor": "white",
            "linecolor": "white",
            "ticks": ""
           }
          },
          "scene": {
           "xaxis": {
            "backgroundcolor": "#E5ECF6",
            "gridcolor": "white",
            "gridwidth": 2,
            "linecolor": "white",
            "showbackground": true,
            "ticks": "",
            "zerolinecolor": "white"
           },
           "yaxis": {
            "backgroundcolor": "#E5ECF6",
            "gridcolor": "white",
            "gridwidth": 2,
            "linecolor": "white",
            "showbackground": true,
            "ticks": "",
            "zerolinecolor": "white"
           },
           "zaxis": {
            "backgroundcolor": "#E5ECF6",
            "gridcolor": "white",
            "gridwidth": 2,
            "linecolor": "white",
            "showbackground": true,
            "ticks": "",
            "zerolinecolor": "white"
           }
          },
          "shapedefaults": {
           "line": {
            "color": "#2a3f5f"
           }
          },
          "ternary": {
           "aaxis": {
            "gridcolor": "white",
            "linecolor": "white",
            "ticks": ""
           },
           "baxis": {
            "gridcolor": "white",
            "linecolor": "white",
            "ticks": ""
           },
           "bgcolor": "#E5ECF6",
           "caxis": {
            "gridcolor": "white",
            "linecolor": "white",
            "ticks": ""
           }
          },
          "title": {
           "x": 0.05
          },
          "xaxis": {
           "automargin": true,
           "gridcolor": "white",
           "linecolor": "white",
           "ticks": "",
           "title": {
            "standoff": 15
           },
           "zerolinecolor": "white",
           "zerolinewidth": 2
          },
          "yaxis": {
           "automargin": true,
           "gridcolor": "white",
           "linecolor": "white",
           "ticks": "",
           "title": {
            "standoff": 15
           },
           "zerolinecolor": "white",
           "zerolinewidth": 2
          }
         }
        },
        "xaxis": {
         "autorange": true,
         "range": [
          "2021-03-29 23:52:01.2125",
          "2021-03-31 06:34:01.0795"
         ],
         "rangeslider": {
          "visible": false,
          "yaxis": {}
         },
         "type": "date"
        },
        "yaxis": {
         "autorange": true,
         "range": [
          46455.049091928304,
          65549.72783572241
         ]
        }
       }
      },
      "image/png": "[encoded data removed]",
      "text/html": [
       "<div>                            <div id=\"b0f9081b-7b25-4917-aaac-501a8210c2db\" class=\"plotly-graph-div\" style=\"height:525px; width:100%;\"></div>            <script type=\"text/javascript\">                require([\"plotly\"], function(Plotly) {                    window.PLOTLYENV=window.PLOTLYENV || {};                                    if (document.getElementById(\"b0f9081b-7b25-4917-aaac-501a8210c2db\")) {                    Plotly.newPlot(                        \"b0f9081b-7b25-4917-aaac-501a8210c2db\",                        [{\"close\": [58670.185194064696, 58659.81607908696, 58941.76510849229, 58893.001117410044, 57841.846706724886, 58120.98745488823, 58890.42933312271, 57990.630038086194, 56495.771344222034, 57925.518780866594, 58057.37194756994, 59181.335951811874, 60062.539344026925, 60091.49024165346, 63233.94854744293, 62945.15635224032, 63298.547035700794, 61593.4982169017, 60648.40893698985, 56670.41354200482, 55994.538581809444, 56361.42179426308, 54188.54026961438, 51599.318819053995, 50592.384606887106, 50601.95214099316, 48826.52065650017, 53589.6752998928, 54997.291345118225, 54462.38634298567, 54818.835377980606], \"high\": [59370.77224252133, 59749.04456614096, 59205.02016179689, 60086.89754589551, 59528.37892164109, 58183.71202960251, 59025.62077552239, 59037.33545469934, 58296.35781501513, 57957.14832967089, 58563.585721537915, 60865.80211839993, 60442.84904777686, 60774.26126925519, 63539.782572281576, 64594.9938985327, 63604.37720073516, 63467.43001569091, 62447.66062948038, 60096.092319232026, 57415.21455726408, 56848.944561761615, 56453.9117695551, 55042.15626412489, 51965.5664304852, 51191.1246964079, 50510.96535053292, 54315.67773597412, 55473.0657777974, 55530.513360661644, 54818.835377980606], \"low\": [57168.37695431903, 57827.356226587064, 58419.910794038595, 58694.958404414356, 57672.79807432743, 57008.11352582882, 57076.96249690862, 57846.95949107808, 56039.83051439416, 56134.41738866435, 57806.29874959166, 58089.16926938455, 59402.940555124434, 59671.33641024264, 59896.1663501267, 62020.81382429886, 62320.26566265919, 60497.97225721784, 60463.71036082847, 53575.419115061675, 54759.80696609703, 53911.961077029024, 54188.54026961438, 51502.48187667513, 47984.98190714404, 48985.689867411566, 47409.78302911801, 48981.4413932161, 53456.0913723206, 54135.005312343856, 54810.6138506792], \"open\": [57541.493889485166, 58668.628336761, 58772.18128166619, 58749.22565086035, 59528.37892164109, 57008.11352582882, 58228.802623466196, 58833.186957538484, 58013.39701271109, 56134.41738866435, 58065.644024815316, 58136.267623707194, 59787.312335644245, 60076.17415341904, 59896.1663501267, 63576.676041048275, 62807.12323259299, 63207.55307317802, 61441.479447519494, 60096.092319232026, 56051.19482986827, 55721.166052695626, 56453.9117695551, 54190.07026283405, 51965.5664304852, 51191.1246964079, 50133.1073963654, 48981.4413932161, 54019.26878317463, 54991.81484262107, 54810.6138506792], \"type\": \"candlestick\", \"x\": [\"2021-03-30T00:12:31.785000\", \"2021-03-30T01:03:10.645000\", \"2021-03-30T02:06:29.206000\", \"2021-03-30T03:02:25.450000\", \"2021-03-30T04:01:57.393000\", \"2021-03-30T05:16:38.730000\", \"2021-03-30T06:15:24.632000\", \"2021-03-30T07:13:17.937000\", \"2021-03-30T08:01:36.417000\", \"2021-03-30T09:18:29.177000\", \"2021-03-30T10:17:30.146000\", \"2021-03-30T11:03:48.966000\", \"2021-03-30T12:08:11.711000\", \"2021-03-30T13:17:42.532000\", \"2021-03-30T14:05:44.250000\", \"2021-03-30T15:20:17.213000\", \"2021-03-30T16:09:14.726000\", \"2021-03-30T17:10:06.604000\", \"2021-03-30T18:20:49.903000\", \"2021-03-30T19:11:49.300000\", \"2021-03-30T20:07:40.533000\", \"2021-03-30T21:12:11.266000\", \"2021-03-30T22:06:44.697000\", \"2021-03-30T23:22:49.750000\", \"2021-03-31T00:03:50.895000\", \"2021-03-31T01:13:32.294000\", \"2021-03-31T02:12:46.729000\", \"2021-03-31T03:18:57.753000\", \"2021-03-31T04:13:38.834000\", \"2021-03-31T05:04:10.380000\", \"2021-03-31T06:13:30.507000\", \"2021-03-31T07:17:50.790000\", \"2021-03-31T08:36:18.318000\", \"2021-03-31T09:17:46.092000\", \"2021-03-31T10:02:40.799000\", \"2021-03-31T11:19:00.784000\", \"2021-03-31T12:06:23.625000\", \"2021-03-31T13:18:41.671000\", \"2021-03-31T14:12:59.871000\", \"2021-03-31T15:13:12.186000\", \"2021-03-31T16:04:57.727000\", \"2021-03-31T17:10:20.877000\", \"2021-03-31T18:07:57.919000\", \"2021-03-31T19:14:13.085000\", \"2021-03-31T20:20:20.274000\", \"2021-03-31T21:02:19.506000\", \"2021-03-31T22:19:55.967000\", \"2021-03-31T23:04:44.037000\", \"2021-04-01T00:07:25.796000\", \"2021-04-01T01:01:23.818000\", \"2021-04-01T02:19:11.992000\", \"2021-04-01T03:10:54.378000\", \"2021-04-01T04:08:18.917000\", \"2021-04-01T05:13:15.987000\", \"2021-04-01T06:10:26.896000\", \"2021-04-01T07:09:21.273000\", \"2021-04-01T08:02:04.564000\", \"2021-04-01T09:05:20.011000\", \"2021-04-01T10:01:10.041000\", \"2021-04-01T11:18:25.591000\", \"2021-04-01T12:13:42.759000\", \"2021-04-01T13:17:09.260000\", \"2021-04-01T14:10:42.115000\", \"2021-04-01T15:14:39.854000\", \"2021-04-01T16:11:14.324000\", \"2021-04-01T17:17:39.658000\", \"2021-04-01T18:19:34.097000\", \"2021-04-01T19:17:09.938000\", \"2021-04-01T20:00:48.425000\", \"2021-04-01T21:14:52.196000\", \"2021-04-01T22:10:51.384000\", \"2021-04-01T23:18:12.425000\", \"2021-04-02T00:19:07.251000\", \"2021-04-02T01:06:12.590000\", \"2021-04-02T02:06:46.376000\", \"2021-04-02T03:13:26.284000\", \"2021-04-02T04:06:54.247000\", \"2021-04-02T05:02:21.861000\", \"2021-04-02T06:01:57.637000\", \"2021-04-02T07:17:54.924000\", \"2021-04-02T08:18:52.469000\", \"2021-04-02T09:15:38.442000\", \"2021-04-02T10:30:41.974000\", \"2021-04-02T11:03:07.036000\", \"2021-04-02T12:08:56.451000\", \"2021-04-02T13:14:25.342000\", \"2021-04-02T14:05:58.222000\", \"2021-04-02T15:16:37.093000\", \"2021-04-02T16:11:06.125000\", \"2021-04-02T17:02:06.554000\", \"2021-04-02T18:09:27.819000\", \"2021-04-02T19:02:38.842000\", \"2021-04-02T20:02:27.051000\", \"2021-04-02T21:01:21.964000\", \"2021-04-02T22:10:51.583000\", \"2021-04-02T23:01:21.989000\", \"2021-04-03T00:28:46.836000\", \"2021-04-03T01:03:55.470000\", \"2021-04-03T02:13:00.643000\", \"2021-04-03T03:04:40.079000\", \"2021-04-03T04:26:52.999000\", \"2021-04-03T05:14:02.032000\", \"2021-04-03T06:02:04.170000\", \"2021-04-03T07:07:47.443000\", \"2021-04-03T08:07:52.135000\", \"2021-04-03T09:11:03.755000\", \"2021-04-03T10:03:44.902000\", \"2021-04-03T11:13:41.265000\", \"2021-04-03T12:12:54.389000\", \"2021-04-03T13:02:36.111000\", \"2021-04-03T14:01:45.822000\", \"2021-04-03T15:07:12.313000\", \"2021-04-03T16:13:26.142000\", \"2021-04-03T17:05:35.587000\", \"2021-04-03T18:08:32.481000\", \"2021-04-03T19:03:20.222000\", \"2021-04-03T20:02:04.803000\", \"2021-04-03T21:02:31.714000\", \"2021-04-03T22:07:00.749000\", \"2021-04-03T23:02:28.104000\", \"2021-04-04T00:09:27.288000\", \"2021-04-04T01:24:24.555000\", \"2021-04-04T02:31:59.510000\", \"2021-04-04T03:37:18.359000\", \"2021-04-04T04:32:05.477000\", \"2021-04-04T05:02:10.592000\", \"2021-04-04T06:03:04.924000\", \"2021-04-04T07:01:39.291000\", \"2021-04-04T08:03:50.230000\", \"2021-04-04T09:01:27.410000\", \"2021-04-04T10:01:32.127000\", \"2021-04-04T11:05:45.051000\", \"2021-04-04T12:01:58.041000\", \"2021-04-04T13:04:31.040000\", \"2021-04-04T14:03:38.116000\", \"2021-04-04T15:06:17.105000\", \"2021-04-04T16:07:33.629000\", \"2021-04-04T17:03:12.369000\", \"2021-04-04T18:01:18.598000\", \"2021-04-04T19:03:30.833000\", \"2021-04-04T20:03:55.263000\", \"2021-04-04T21:05:30.282000\", \"2021-04-04T22:02:17.649000\", \"2021-04-04T23:04:24.292000\", \"2021-04-05T00:05:02.876000\", \"2021-04-05T01:01:48.137000\", \"2021-04-05T02:01:33.176000\", \"2021-04-05T03:02:50.029000\", \"2021-04-05T04:02:00.295000\", \"2021-04-05T05:05:57.738000\", \"2021-04-05T06:01:53.434000\", \"2021-04-05T07:04:36.448000\", \"2021-04-05T08:05:03.254000\", \"2021-04-05T09:02:17.542000\", \"2021-04-05T10:08:29.725000\", \"2021-04-05T11:07:31.328000\", \"2021-04-05T12:06:34.822000\", \"2021-04-05T13:02:03.529000\", \"2021-04-05T14:00:45.919000\", \"2021-04-05T15:03:17.096000\", \"2021-04-05T16:01:04.443000\", \"2021-04-05T17:03:30.396000\", \"2021-04-05T18:04:26.889000\", \"2021-04-05T19:01:54.803000\", \"2021-04-05T20:02:39.467000\", \"2021-04-05T21:03:23.399000\", \"2021-04-05T22:04:24.773000\", \"2021-04-05T23:05:05.558000\", \"2021-04-06T00:04:53.830000\", \"2021-04-06T01:31:57.177000\", \"2021-04-06T02:03:08.102000\", \"2021-04-06T03:01:16.379000\", \"2021-04-06T04:00:29.319000\", \"2021-04-06T05:05:09.685000\", \"2021-04-06T06:04:19.020000\", \"2021-04-06T07:02:24.445000\", \"2021-04-06T08:06:44.404000\", \"2021-04-06T09:05:03.949000\", \"2021-04-06T10:03:58.437000\", \"2021-04-06T11:03:54.510000\", \"2021-04-06T12:02:12.087000\", \"2021-04-06T13:04:31.898000\", \"2021-04-06T14:05:44.437000\", \"2021-04-06T15:04:39.980000\", \"2021-04-06T16:02:47.811000\", \"2021-04-06T17:06:10.233000\", \"2021-04-06T18:06:24.643000\", \"2021-04-06T19:06:15.341000\", \"2021-04-06T20:01:30.391000\", \"2021-04-06T21:01:47.406000\", \"2021-04-06T22:06:55.588000\", \"2021-04-06T23:02:49.915000\", \"2021-04-07T00:09:01.720000\", \"2021-04-07T01:03:01.948000\", \"2021-04-07T02:03:47.788000\", \"2021-04-07T03:04:57.270000\", \"2021-04-07T04:02:17.159000\", \"2021-04-07T05:04:03.193000\", \"2021-04-07T06:04:15.622000\", \"2021-04-07T07:04:01.148000\", \"2021-04-07T08:01:57.775000\", \"2021-04-07T09:02:51.269000\", \"2021-04-07T10:06:23.349000\", \"2021-04-07T11:05:33.771000\", \"2021-04-07T12:02:37.648000\", \"2021-04-07T13:07:40.567000\", \"2021-04-07T14:06:52.316000\", \"2021-04-07T15:01:22.087000\", \"2021-04-07T16:07:00.156000\", \"2021-04-07T17:05:19.127000\", \"2021-04-07T18:04:23.110000\", \"2021-04-07T19:02:45.641000\", \"2021-04-07T20:01:41.377000\", \"2021-04-07T21:07:05.369000\", \"2021-04-07T22:01:27.344000\", \"2021-04-07T23:01:51.453000\", \"2021-04-08T00:05:05.905000\", \"2021-04-08T01:04:57.129000\", \"2021-04-08T02:07:48.329000\", \"2021-04-08T02:45:11.898000\", \"2021-04-08T03:21:02.936000\", \"2021-04-08T04:06:59.655000\", \"2021-04-08T05:02:15.400000\", \"2021-04-08T06:12:01.266000\", \"2021-04-08T07:06:35.799000\", \"2021-04-08T08:02:19.834000\", \"2021-04-08T09:04:55.579000\", \"2021-04-08T10:05:18.306000\", \"2021-04-08T11:07:24.757000\", \"2021-04-08T12:01:16.956000\", \"2021-04-08T13:06:16.904000\", \"2021-04-08T14:02:23.465000\", \"2021-04-08T15:04:11.421000\", \"2021-04-08T16:03:11.204000\", \"2021-04-08T17:01:55.072000\", \"2021-04-08T18:02:11.469000\", \"2021-04-08T19:05:59.730000\", \"2021-04-08T20:02:48.837000\", \"2021-04-08T21:06:46.984000\", \"2021-04-08T22:05:18.586000\", \"2021-04-08T23:09:38.495000\", \"2021-04-09T00:01:58.358000\", \"2021-04-09T01:03:51.697000\", \"2021-04-09T02:03:37.953000\", \"2021-04-09T03:02:45.249000\", \"2021-04-09T04:05:00.974000\", \"2021-04-09T05:02:47.637000\", \"2021-04-09T06:04:43.942000\", \"2021-04-09T07:01:03.094000\", \"2021-04-09T08:04:10.198000\", \"2021-04-09T09:04:29.243000\", \"2021-04-09T10:05:22.232000\", \"2021-04-09T11:02:35.377000\", \"2021-04-09T12:08:59.903000\", \"2021-04-09T13:03:47.352000\", \"2021-04-09T14:14:08.498000\", \"2021-04-09T15:06:25.376000\", \"2021-04-09T16:04:06.189000\", \"2021-04-09T17:07:40.532000\", \"2021-04-09T18:02:04.458000\", \"2021-04-09T19:02:05.433000\", \"2021-04-09T20:06:44.447000\", \"2021-04-09T21:02:44.550000\", \"2021-04-09T22:07:23.750000\", \"2021-04-09T23:06:57.562000\", \"2021-04-10T00:05:35.549000\", \"2021-04-10T01:05:00.568000\", \"2021-04-10T02:01:21.341000\", \"2021-04-10T03:01:03.776000\", \"2021-04-10T04:05:28.289000\", \"2021-04-10T05:07:02.241000\", \"2021-04-10T06:01:47.438000\", \"2021-04-10T07:04:00.991000\", \"2021-04-10T08:07:14.459000\", \"2021-04-10T09:06:25.027000\", \"2021-04-10T10:01:03.130000\", \"2021-04-10T11:01:51.635000\", \"2021-04-10T12:02:04.534000\", \"2021-04-10T13:04:57.067000\", \"2021-04-10T14:07:09.386000\", \"2021-04-10T15:04:18.987000\", \"2021-04-10T16:03:22.235000\", \"2021-04-10T17:04:24.346000\", \"2021-04-10T18:07:21.464000\", \"2021-04-10T19:04:33.787000\", \"2021-04-10T20:09:45.807000\", \"2021-04-10T21:05:05.433000\", \"2021-04-10T22:04:19.551000\", \"2021-04-10T23:04:05.817000\", \"2021-04-11T00:09:10.754000\", \"2021-04-11T01:04:03.488000\", \"2021-04-11T02:02:10.808000\", \"2021-04-11T03:02:08.905000\", \"2021-04-11T04:02:55.695000\", \"2021-04-11T05:02:37.204000\", \"2021-04-11T06:06:48.549000\", \"2021-04-11T07:02:18.536000\", \"2021-04-11T08:06:41.016000\", \"2021-04-11T09:03:31.677000\", \"2021-04-11T10:04:00.044000\", \"2021-04-11T11:05:43.839000\", \"2021-04-11T12:03:34.598000\", \"2021-04-11T13:01:44.742000\", \"2021-04-11T14:03:47.805000\", \"2021-04-11T15:01:50.592000\", \"2021-04-11T16:02:52.784000\", \"2021-04-11T17:01:01.181000\", \"2021-04-11T18:02:42.056000\", \"2021-04-11T19:05:21.722000\", \"2021-04-11T20:05:04.904000\", \"2021-04-11T21:01:32.679000\", \"2021-04-11T22:01:26.313000\", \"2021-04-11T23:06:09.803000\", \"2021-04-12T00:05:46.471000\", \"2021-04-12T01:00:52.755000\", \"2021-04-12T02:01:07.799000\", \"2021-04-12T03:01:49.663000\", \"2021-04-12T04:06:15.714000\", \"2021-04-12T05:03:04.356000\", \"2021-04-12T06:08:24.815000\", \"2021-04-12T07:06:18.699000\", \"2021-04-12T08:02:26.811000\", \"2021-04-12T09:07:25.849000\", \"2021-04-12T10:01:02.708000\", \"2021-04-12T11:04:33.056000\", \"2021-04-12T12:06:03.863000\", \"2021-04-12T13:08:22.097000\", \"2021-04-12T14:04:56.719000\", \"2021-04-12T15:06:16.621000\", \"2021-04-12T16:06:36.981000\", \"2021-04-12T17:04:23.013000\", \"2021-04-12T18:06:17.082000\", \"2021-04-12T19:07:23.436000\", \"2021-04-12T20:00:45.089000\", \"2021-04-12T21:03:59.665000\", \"2021-04-12T22:09:55.682000\", \"2021-04-12T23:06:20.138000\", \"2021-04-13T00:02:45.405000\", \"2021-04-13T01:07:09.311000\", \"2021-04-13T02:04:20.878000\", \"2021-04-13T03:05:20.815000\", \"2021-04-13T04:05:44.216000\", \"2021-04-13T05:02:52.070000\", \"2021-04-13T06:14:03.828000\", \"2021-04-13T07:04:14.159000\", \"2021-04-13T08:03:23.611000\", \"2021-04-13T09:04:56.724000\", \"2021-04-13T10:11:56.961000\", \"2021-04-13T11:09:11.941000\", \"2021-04-13T12:01:42.758000\", \"2021-04-13T13:03:33.315000\", \"2021-04-13T14:07:47.335000\", \"2021-04-13T15:01:41.733000\", \"2021-04-13T16:05:24.005000\", \"2021-04-13T17:05:37.848000\", \"2021-04-13T18:08:35.950000\", \"2021-04-13T19:03:58.154000\", \"2021-04-13T20:04:51.450000\", \"2021-04-13T21:04:55.997000\", \"2021-04-13T22:07:20.232000\", \"2021-04-13T23:01:43.364000\", \"2021-04-14T00:04:49.100000\", \"2021-04-14T01:08:25.991000\", \"2021-04-14T02:01:45.070000\", \"2021-04-14T03:07:06.007000\", \"2021-04-14T04:02:49.554000\", \"2021-04-14T05:06:57.135000\", \"2021-04-14T06:01:28.829000\", \"2021-04-14T07:02:32.884000\", \"2021-04-14T08:10:31.335000\", \"2021-04-14T09:07:51.597000\", \"2021-04-14T10:09:36.401000\", \"2021-04-14T11:10:21.536000\", \"2021-04-14T12:09:10.234000\", \"2021-04-14T13:10:34.965000\", \"2021-04-14T14:03:30.413000\", \"2021-04-14T15:04:06.629000\", \"2021-04-14T16:02:40.904000\", \"2021-04-14T17:05:21.551000\", \"2021-04-14T18:07:54.308000\", \"2021-04-14T19:03:26.676000\", \"2021-04-14T20:07:47.816000\", \"2021-04-14T21:09:40.169000\", \"2021-04-14T22:01:08.942000\", \"2021-04-14T23:06:02.269000\", \"2021-04-15T00:02:17.479000\", \"2021-04-15T01:03:42.419000\", \"2021-04-15T02:04:17.369000\", \"2021-04-15T03:05:27.482000\", \"2021-04-15T04:04:00.264000\", \"2021-04-15T05:02:53.214000\", \"2021-04-15T06:05:06.096000\", \"2021-04-15T07:02:54.569000\", \"2021-04-15T08:02:27.129000\", \"2021-04-15T09:04:29.052000\", \"2021-04-15T10:04:52.336000\", \"2021-04-15T11:03:50.546000\", \"2021-04-15T12:07:35.444000\", \"2021-04-15T13:10:00.343000\", \"2021-04-15T14:01:04.903000\", \"2021-04-15T15:04:13.863000\", \"2021-04-15T16:34:51.663000\", \"2021-04-15T17:09:28.120000\", \"2021-04-15T18:01:02.072000\", \"2021-04-15T19:02:26.341000\", \"2021-04-15T20:02:57.103000\", \"2021-04-15T21:04:15.322000\", \"2021-04-15T22:02:07.145000\", \"2021-04-15T23:06:25.431000\", \"2021-04-16T00:05:30.730000\", \"2021-04-16T01:08:26.273000\", \"2021-04-16T02:04:51.392000\", \"2021-04-16T03:05:59.660000\", \"2021-04-16T04:05:28.262000\", \"2021-04-16T05:11:28.018000\", \"2021-04-16T06:16:07.074000\", \"2021-04-16T07:02:54.219000\", \"2021-04-16T08:02:31.734000\", \"2021-04-16T09:30:45.037000\", \"2021-04-16T10:01:54.247000\", \"2021-04-16T11:20:31.657000\", \"2021-04-16T12:11:44.991000\", \"2021-04-16T13:08:01.013000\", \"2021-04-16T14:04:56.185000\", \"2021-04-16T15:03:50.180000\", \"2021-04-16T16:09:40.744000\", \"2021-04-16T17:05:55.128000\", \"2021-04-16T18:01:21.929000\", \"2021-04-16T19:10:52.444000\", \"2021-04-16T20:09:11.659000\", \"2021-04-16T21:02:35.333000\", \"2021-04-16T22:11:03.218000\", \"2021-04-16T23:05:57.415000\", \"2021-04-17T00:06:40.894000\", \"2021-04-17T01:03:43.176000\", \"2021-04-17T02:08:12.971000\", \"2021-04-17T03:05:46.996000\", \"2021-04-17T04:01:11.484000\", \"2021-04-17T05:09:13.001000\", \"2021-04-17T06:05:24.132000\", \"2021-04-17T07:04:47.045000\", \"2021-04-17T08:03:51.043000\", \"2021-04-17T09:02:29.155000\", \"2021-04-17T10:10:49.826000\", \"2021-04-17T11:39:17.592000\", \"2021-04-17T12:48:49.108000\", \"2021-04-17T13:57:26.533000\", \"2021-04-17T15:16:31.059000\", \"2021-04-17T16:42:28.537000\", \"2021-04-17T18:11:08.345000\", \"2021-04-17T19:43:48.059000\", \"2021-04-17T20:06:00.693000\", \"2021-04-17T20:46:39.793000\", \"2021-04-17T22:29:17.153000\", \"2021-04-17T23:23:36.468000\", \"2021-04-18T00:04:13.949000\", \"2021-04-18T00:36:02.747000\", \"2021-04-18T01:19:11.634000\", \"2021-04-18T02:11:32.533000\", \"2021-04-18T02:43:31.617000\", \"2021-04-18T03:26:15.938000\", \"2021-04-18T04:10:31.920000\", \"2021-04-18T04:56:20.084000\", \"2021-04-18T05:37:23.674000\", \"2021-04-18T06:22:18.764000\", \"2021-04-18T07:06:25.175000\", \"2021-04-18T08:06:40.718000\", \"2021-04-18T09:07:20.009000\", \"2021-04-18T10:06:53.492000\", \"2021-04-18T11:03:41.562000\", \"2021-04-18T12:08:06.508000\", \"2021-04-18T13:08:19.042000\", \"2021-04-18T14:02:20.251000\", \"2021-04-18T15:22:21.817000\", \"2021-04-18T16:03:05.235000\", \"2021-04-18T17:13:44.662000\", \"2021-04-18T18:00:35.817000\", \"2021-04-18T19:05:33.078000\", \"2021-04-18T20:12:41.171000\", \"2021-04-18T21:06:13.048000\", \"2021-04-18T22:33:10.693000\", \"2021-04-18T23:03:13.756000\", \"2021-04-19T00:16:36.238000\", \"2021-04-19T01:22:11.265000\", \"2021-04-19T02:08:26.128000\", \"2021-04-19T03:03:26.550000\", \"2021-04-19T04:30:04.533000\", \"2021-04-19T05:20:42.939000\", \"2021-04-19T06:13:27.284000\", \"2021-04-19T07:14:34.975000\", \"2021-04-19T08:26:40.810000\", \"2021-04-19T09:00:55.657000\", \"2021-04-19T10:06:56.669000\", \"2021-04-19T11:03:08.694000\", \"2021-04-19T12:27:36.237000\", \"2021-04-19T13:31:32.998000\", \"2021-04-19T14:43:06.855000\", \"2021-04-19T15:06:00.119000\", \"2021-04-19T16:05:47.669000\", \"2021-04-19T17:01:24.107000\", \"2021-04-19T18:24:06.990000\", \"2021-04-19T19:02:41.081000\", \"2021-04-19T20:06:21.336000\", \"2021-04-19T21:02:45.654000\", \"2021-04-19T22:02:14.067000\", \"2021-04-19T23:26:49.673000\", \"2021-04-20T00:03:57.441000\", \"2021-04-20T01:08:23.891000\", \"2021-04-20T02:11:47.082000\", \"2021-04-20T03:32:38.955000\", \"2021-04-20T04:53:25.062000\", \"2021-04-20T05:14:15.074000\", \"2021-04-20T06:01:08.429000\", \"2021-04-20T07:04:22.816000\", \"2021-04-20T08:03:04.333000\", \"2021-04-20T09:05:39.344000\", \"2021-04-20T10:05:51.871000\", \"2021-04-20T11:01:26.612000\", \"2021-04-20T12:05:31.574000\", \"2021-04-20T13:11:17.787000\", \"2021-04-20T14:01:30.976000\", \"2021-04-20T15:01:22.373000\", \"2021-04-20T16:01:42.974000\", \"2021-04-20T17:04:15.951000\", \"2021-04-20T18:04:38.560000\", \"2021-04-20T19:06:59.538000\", \"2021-04-20T20:02:43.574000\", \"2021-04-20T21:03:33.047000\", \"2021-04-20T22:03:57.846000\", \"2021-04-20T23:04:27.648000\", \"2021-04-21T00:05:58.866000\", \"2021-04-21T01:03:03.263000\", \"2021-04-21T02:02:29.614000\", \"2021-04-21T03:02:23.581000\", \"2021-04-21T04:03:51.954000\", \"2021-04-21T05:05:43.755000\", \"2021-04-21T06:01:37.898000\", \"2021-04-21T07:06:37.107000\", \"2021-04-21T08:03:18.327000\", \"2021-04-21T09:05:03.386000\", \"2021-04-21T10:03:59.483000\", \"2021-04-21T11:07:00.901000\", \"2021-04-21T12:01:45.661000\", \"2021-04-21T13:12:12.717000\", \"2021-04-21T14:04:06.809000\", \"2021-04-21T15:01:39.852000\", \"2021-04-21T16:03:02.960000\", \"2021-04-21T17:03:32.370000\", \"2021-04-21T18:01:59.603000\", \"2021-04-21T19:01:04.789000\", \"2021-04-21T20:06:18.150000\", \"2021-04-21T21:02:42.624000\", \"2021-04-21T22:03:53.706000\", \"2021-04-21T23:03:56.713000\", \"2021-04-22T00:03:13.658000\", \"2021-04-22T01:02:56.733000\", \"2021-04-22T02:01:51.615000\", \"2021-04-22T03:00:14.082000\", \"2021-04-22T04:32:54.056000\", \"2021-04-22T05:01:21.781000\", \"2021-04-22T06:02:42.108000\", \"2021-04-22T07:06:29.750000\", \"2021-04-22T08:04:51.902000\", \"2021-04-22T09:01:35.581000\", \"2021-04-22T10:01:08.988000\", \"2021-04-22T11:05:00.020000\", \"2021-04-22T12:04:16.895000\", \"2021-04-22T13:09:51.440000\", \"2021-04-22T14:03:20.451000\", \"2021-04-22T15:03:33.427000\", \"2021-04-22T16:03:30.303000\", \"2021-04-22T17:05:37.960000\", \"2021-04-22T18:05:49.601000\", \"2021-04-22T19:02:01.910000\", \"2021-04-22T20:01:55.898000\", \"2021-04-22T21:04:10.905000\", \"2021-04-22T22:00:36.765000\", \"2021-04-22T23:06:36.945000\", \"2021-04-23T00:03:38.749000\", \"2021-04-23T01:03:09.606000\", \"2021-04-23T02:04:40.704000\", \"2021-04-23T03:03:50.812000\", \"2021-04-23T04:04:48.295000\", \"2021-04-23T05:04:32.271000\", \"2021-04-23T06:03:15.713000\", \"2021-04-23T07:01:58.619000\", \"2021-04-23T08:00:56.500000\", \"2021-04-23T09:03:39.920000\", \"2021-04-23T10:05:33.918000\", \"2021-04-23T11:05:04.532000\", \"2021-04-23T12:04:40.948000\", \"2021-04-23T13:07:46.186000\", \"2021-04-23T14:03:32.314000\", \"2021-04-23T15:04:59.624000\", \"2021-04-23T16:08:34.344000\", \"2021-04-23T17:00:30.766000\", \"2021-04-23T18:06:06.240000\", \"2021-04-23T19:05:30.110000\", \"2021-04-23T20:04:55.261000\", \"2021-04-23T21:04:31.630000\", \"2021-04-23T22:05:05.303000\", \"2021-04-23T23:02:16.890000\", \"2021-04-24T00:05:06.360000\", \"2021-04-24T01:05:23.327000\", \"2021-04-24T02:02:44.541000\", \"2021-04-24T03:03:10.138000\", \"2021-04-24T04:00:41.546000\", \"2021-04-24T05:04:25.055000\", \"2021-04-24T06:06:14.330000\", \"2021-04-24T07:03:11.088000\", \"2021-04-24T08:06:12.586000\", \"2021-04-24T09:02:41.797000\", \"2021-04-24T10:04:19.114000\", \"2021-04-24T11:03:02.925000\", \"2021-04-24T12:03:08.328000\", \"2021-04-24T13:08:33.348000\", \"2021-04-24T14:04:22.599000\", \"2021-04-24T15:02:12.511000\", \"2021-04-24T16:03:34.140000\", \"2021-04-24T17:02:47.101000\", \"2021-04-24T18:03:31.230000\", \"2021-04-24T19:03:03.323000\", \"2021-04-24T20:04:05.030000\", \"2021-04-24T21:04:20.449000\", \"2021-04-24T22:04:29.284000\", \"2021-04-24T23:02:46.767000\", \"2021-04-25T00:04:09.010000\", \"2021-04-25T01:05:06.065000\", \"2021-04-25T02:00:33.833000\", \"2021-04-25T03:00:29.533000\", \"2021-04-25T04:02:48.828000\", \"2021-04-25T05:05:23.202000\", \"2021-04-25T06:02:51.768000\", \"2021-04-25T07:03:39.572000\", \"2021-04-25T08:01:50.604000\", \"2021-04-25T09:05:37.576000\", \"2021-04-25T10:05:19.779000\", \"2021-04-25T11:03:57.597000\", \"2021-04-25T12:04:06.962000\", \"2021-04-25T13:11:15.773000\", \"2021-04-25T14:18:45.126000\", \"2021-04-25T15:02:08.550000\", \"2021-04-25T16:04:23.560000\", \"2021-04-25T17:04:19.351000\", \"2021-04-25T18:05:55.542000\", \"2021-04-25T19:05:39.676000\", \"2021-04-25T20:04:40.719000\", \"2021-04-25T21:02:46.226000\", \"2021-04-25T22:03:40.980000\", \"2021-04-25T23:02:53.137000\", \"2021-04-26T00:01:13.539000\", \"2021-04-26T01:08:40.750000\", \"2021-04-26T02:04:48.925000\", \"2021-04-26T03:05:06.174000\", \"2021-04-26T04:04:01.573000\", \"2021-04-26T05:04:18.096000\", \"2021-04-26T06:03:29.842000\", \"2021-04-26T07:03:20.347000\", \"2021-04-26T08:06:08.676000\", \"2021-04-26T09:02:24.602000\", \"2021-04-26T10:04:04.231000\", \"2021-04-26T11:04:49.622000\", \"2021-04-26T12:03:21.827000\", \"2021-04-26T13:09:19.295000\", \"2021-04-26T15:00:41.116000\", \"2021-04-26T15:37:29.812000\", \"2021-04-26T16:17:54.624000\", \"2021-04-26T17:04:24.321000\", \"2021-04-26T18:04:00.495000\", \"2021-04-26T19:05:20.030000\", \"2021-04-26T20:05:12.919000\", \"2021-04-26T21:01:09.882000\", \"2021-04-26T22:04:18.281000\", \"2021-04-26T23:05:03.784000\", \"2021-04-27T00:05:44.162000\", \"2021-04-27T01:07:24.418000\", \"2021-04-27T02:02:51.494000\", \"2021-04-27T03:03:04.917000\", \"2021-04-27T04:01:20.871000\", \"2021-04-27T05:03:35.336000\", \"2021-04-27T06:04:15.813000\", \"2021-04-27T07:02:40.808000\", \"2021-04-27T08:06:49.335000\", \"2021-04-27T09:01:14.035000\", \"2021-04-27T10:04:36.133000\", \"2021-04-27T11:04:41.386000\", \"2021-04-27T12:01:23.985000\", \"2021-04-27T13:08:20.472000\", \"2021-04-27T14:19:09.962000\", \"2021-04-27T15:18:33.738000\", \"2021-04-27T16:01:23.223000\", \"2021-04-27T17:04:15.684000\", \"2021-04-27T18:03:19.058000\", \"2021-04-27T19:03:56.144000\", \"2021-04-27T20:01:39.522000\", \"2021-04-27T21:03:10.425000\", \"2021-04-27T22:04:13.064000\", \"2021-04-27T23:02:54.508000\", \"2021-04-28T00:01:06.360000\", \"2021-04-28T01:06:18.018000\", \"2021-04-28T02:04:43.600000\", \"2021-04-28T03:04:07.091000\", \"2021-04-28T04:02:06.531000\", \"2021-04-28T05:03:30.884000\", \"2021-04-28T06:01:27.548000\", \"2021-04-28T07:05:34.439000\", \"2021-04-28T08:02:28.451000\", \"2021-04-28T09:00:04.877000\", \"2021-04-28T10:04:02.295000\", \"2021-04-28T11:04:49.829000\", \"2021-04-28T12:02:54.879000\", \"2021-04-28T13:06:46.445000\", \"2021-04-28T14:02:11.607000\", \"2021-04-28T15:01:27.528000\", \"2021-04-28T16:02:41.462000\", \"2021-04-28T17:02:15.588000\", \"2021-04-28T18:00:15.550000\", \"2021-04-28T19:03:21.053000\", \"2021-04-28T20:01:10.018000\", \"2021-04-28T21:03:28.879000\", \"2021-04-28T22:04:26.821000\", \"2021-04-28T23:04:08.136000\", \"2021-04-29T00:01:30.820000\", \"2021-04-29T00:00:45\"]}],                        {\"template\": {\"data\": {\"bar\": [{\"error_x\": {\"color\": \"#2a3f5f\"}, \"error_y\": {\"color\": \"#2a3f5f\"}, \"marker\": {\"line\": {\"color\": \"#E5ECF6\", \"width\": 0.5}}, \"type\": \"bar\"}], \"barpolar\": [{\"marker\": {\"line\": {\"color\": \"#E5ECF6\", \"width\": 0.5}}, \"type\": \"barpolar\"}], \"carpet\": [{\"aaxis\": {\"endlinecolor\": \"#2a3f5f\", \"gridcolor\": \"white\", \"linecolor\": \"white\", \"minorgridcolor\": \"white\", \"startlinecolor\": \"#2a3f5f\"}, \"baxis\": {\"endlinecolor\": \"#2a3f5f\", \"gridcolor\": \"white\", \"linecolor\": \"white\", \"minorgridcolor\": \"white\", \"startlinecolor\": \"#2a3f5f\"}, \"type\": \"carpet\"}], \"choropleth\": [{\"colorbar\": {\"outlinewidth\": 0, \"ticks\": \"\"}, \"type\": \"choropleth\"}], \"contour\": [{\"colorbar\": {\"outlinewidth\": 0, \"ticks\": \"\"}, \"colorscale\": [[0.0, \"#0d0887\"], [0.1111111111111111, \"#46039f\"], [0.2222222222222222, \"#7201a8\"], [0.3333333333333333, \"#9c179e\"], [0.4444444444444444, \"#bd3786\"], [0.5555555555555556, \"#d8576b\"], [0.6666666666666666, \"#ed7953\"], [0.7777777777777778, \"#fb9f3a\"], [0.8888888888888888, \"#fdca26\"], [1.0, \"#f0f921\"]], \"type\": \"contour\"}], \"contourcarpet\": [{\"colorbar\": {\"outlinewidth\": 0, \"ticks\": \"\"}, \"type\": \"contourcarpet\"}], \"heatmap\": [{\"colorbar\": {\"outlinewidth\": 0, \"ticks\": \"\"}, \"colorscale\": [[0.0, \"#0d0887\"], [0.1111111111111111, \"#46039f\"], [0.2222222222222222, \"#7201a8\"], [0.3333333333333333, \"#9c179e\"], [0.4444444444444444, \"#bd3786\"], [0.5555555555555556, \"#d8576b\"], [0.6666666666666666, \"#ed7953\"], [0.7777777777777778, \"#fb9f3a\"], [0.8888888888888888, \"#fdca26\"], [1.0, \"#f0f921\"]], \"type\": \"heatmap\"}], \"heatmapgl\": [{\"colorbar\": {\"outlinewidth\": 0, \"ticks\": \"\"}, \"colorscale\": [[0.0, \"#0d0887\"], [0.1111111111111111, \"#46039f\"], [0.2222222222222222, \"#7201a8\"], [0.3333333333333333, \"#9c179e\"], [0.4444444444444444, \"#bd3786\"], [0.5555555555555556, \"#d8576b\"], [0.6666666666666666, \"#ed7953\"], [0.7777777777777778, \"#fb9f3a\"], [0.8888888888888888, \"#fdca26\"], [1.0, \"#f0f921\"]], \"type\": \"heatmapgl\"}], \"histogram\": [{\"marker\": {\"colorbar\": {\"outlinewidth\": 0, \"ticks\": \"\"}}, \"type\": \"histogram\"}], \"histogram2d\": [{\"colorbar\": {\"outlinewidth\": 0, \"ticks\": \"\"}, \"colorscale\": [[0.0, \"#0d0887\"], [0.1111111111111111, \"#46039f\"], [0.2222222222222222, \"#7201a8\"], [0.3333333333333333, \"#9c179e\"], [0.4444444444444444, \"#bd3786\"], [0.5555555555555556, \"#d8576b\"], [0.6666666666666666, \"#ed7953\"], [0.7777777777777778, \"#fb9f3a\"], [0.8888888888888888, \"#fdca26\"], [1.0, \"#f0f921\"]], \"type\": \"histogram2d\"}], \"histogram2dcontour\": [{\"colorbar\": {\"outlinewidth\": 0, \"ticks\": \"\"}, \"colorscale\": [[0.0, \"#0d0887\"], [0.1111111111111111, \"#46039f\"], [0.2222222222222222, \"#7201a8\"], [0.3333333333333333, \"#9c179e\"], [0.4444444444444444, \"#bd3786\"], [0.5555555555555556, \"#d8576b\"], [0.6666666666666666, \"#ed7953\"], [0.7777777777777778, \"#fb9f3a\"], [0.8888888888888888, \"#fdca26\"], [1.0, \"#f0f921\"]], \"type\": \"histogram2dcontour\"}], \"mesh3d\": [{\"colorbar\": {\"outlinewidth\": 0, \"ticks\": \"\"}, \"type\": \"mesh3d\"}], \"parcoords\": [{\"line\": {\"colorbar\": {\"outlinewidth\": 0, \"ticks\": \"\"}}, \"type\": \"parcoords\"}], \"pie\": [{\"automargin\": true, \"type\": \"pie\"}], \"scatter\": [{\"marker\": {\"colorbar\": {\"outlinewidth\": 0, \"ticks\": \"\"}}, \"type\": \"scatter\"}], \"scatter3d\": [{\"line\": {\"colorbar\": {\"outlinewidth\": 0, \"ticks\": \"\"}}, \"marker\": {\"colorbar\": {\"outlinewidth\": 0, \"ticks\": \"\"}}, \"type\": \"scatter3d\"}], \"scattercarpet\": [{\"marker\": {\"colorbar\": {\"outlinewidth\": 0, \"ticks\": \"\"}}, \"type\": \"scattercarpet\"}], \"scattergeo\": [{\"marker\": {\"colorbar\": {\"outlinewidth\": 0, \"ticks\": \"\"}}, \"type\": \"scattergeo\"}], \"scattergl\": [{\"marker\": {\"colorbar\": {\"outlinewidth\": 0, \"ticks\": \"\"}}, \"type\": \"scattergl\"}], \"scattermapbox\": [{\"marker\": {\"colorbar\": {\"outlinewidth\": 0, \"ticks\": \"\"}}, \"type\": \"scattermapbox\"}], \"scatterpolar\": [{\"marker\": {\"colorbar\": {\"outlinewidth\": 0, \"ticks\": \"\"}}, \"type\": \"scatterpolar\"}], \"scatterpolargl\": [{\"marker\": {\"colorbar\": {\"outlinewidth\": 0, \"ticks\": \"\"}}, \"type\": \"scatterpolargl\"}], \"scatterternary\": [{\"marker\": {\"colorbar\": {\"outlinewidth\": 0, \"ticks\": \"\"}}, \"type\": \"scatterternary\"}], \"surface\": [{\"colorbar\": {\"outlinewidth\": 0, \"ticks\": \"\"}, \"colorscale\": [[0.0, \"#0d0887\"], [0.1111111111111111, \"#46039f\"], [0.2222222222222222, \"#7201a8\"], [0.3333333333333333, \"#9c179e\"], [0.4444444444444444, \"#bd3786\"], [0.5555555555555556, \"#d8576b\"], [0.6666666666666666, \"#ed7953\"], [0.7777777777777778, \"#fb9f3a\"], [0.8888888888888888, \"#fdca26\"], [1.0, \"#f0f921\"]], \"type\": \"surface\"}], \"table\": [{\"cells\": {\"fill\": {\"color\": \"#EBF0F8\"}, \"line\": {\"color\": \"white\"}}, \"header\": {\"fill\": {\"color\": \"#C8D4E3\"}, \"line\": {\"color\": \"white\"}}, \"type\": \"table\"}]}, \"layout\": {\"annotationdefaults\": {\"arrowcolor\": \"#2a3f5f\", \"arrowhead\": 0, \"arrowwidth\": 1}, \"autotypenumbers\": \"strict\", \"coloraxis\": {\"colorbar\": {\"outlinewidth\": 0, \"ticks\": \"\"}}, \"colorscale\": {\"diverging\": [[0, \"#8e0152\"], [0.1, \"#c51b7d\"], [0.2, \"#de77ae\"], [0.3, \"#f1b6da\"], [0.4, \"#fde0ef\"], [0.5, \"#f7f7f7\"], [0.6, \"#e6f5d0\"], [0.7, \"#b8e186\"], [0.8, \"#7fbc41\"], [0.9, \"#4d9221\"], [1, \"#276419\"]], \"sequential\": [[0.0, \"#0d0887\"], [0.1111111111111111, \"#46039f\"], [0.2222222222222222, \"#7201a8\"], [0.3333333333333333, \"#9c179e\"], [0.4444444444444444, \"#bd3786\"], [0.5555555555555556, \"#d8576b\"], [0.6666666666666666, \"#ed7953\"], [0.7777777777777778, \"#fb9f3a\"], [0.8888888888888888, \"#fdca26\"], [1.0, \"#f0f921\"]], \"sequentialminus\": [[0.0, \"#0d0887\"], [0.1111111111111111, \"#46039f\"], [0.2222222222222222, \"#7201a8\"], [0.3333333333333333, \"#9c179e\"], [0.4444444444444444, \"#bd3786\"], [0.5555555555555556, \"#d8576b\"], [0.6666666666666666, \"#ed7953\"], [0.7777777777777778, \"#fb9f3a\"], [0.8888888888888888, \"#fdca26\"], [1.0, \"#f0f921\"]]}, \"colorway\": [\"#636efa\", \"#EF553B\", \"#00cc96\", \"#ab63fa\", \"#FFA15A\", \"#19d3f3\", \"#FF6692\", \"#B6E880\", \"#FF97FF\", \"#FECB52\"], \"font\": {\"color\": \"#2a3f5f\"}, \"geo\": {\"bgcolor\": \"white\", \"lakecolor\": \"white\", \"landcolor\": \"#E5ECF6\", \"showlakes\": true, \"showland\": true, \"subunitcolor\": \"white\"}, \"hoverlabel\": {\"align\": \"left\"}, \"hovermode\": \"closest\", \"mapbox\": {\"style\": \"light\"}, \"paper_bgcolor\": \"white\", \"plot_bgcolor\": \"#E5ECF6\", \"polar\": {\"angularaxis\": {\"gridcolor\": \"white\", \"linecolor\": \"white\", \"ticks\": \"\"}, \"bgcolor\": \"#E5ECF6\", \"radialaxis\": {\"gridcolor\": \"white\", \"linecolor\": \"white\", \"ticks\": \"\"}}, \"scene\": {\"xaxis\": {\"backgroundcolor\": \"#E5ECF6\", \"gridcolor\": \"white\", \"gridwidth\": 2, \"linecolor\": \"white\", \"showbackground\": true, \"ticks\": \"\", \"zerolinecolor\": \"white\"}, \"yaxis\": {\"backgroundcolor\": \"#E5ECF6\", \"gridcolor\": \"white\", \"gridwidth\": 2, \"linecolor\": \"white\", \"showbackground\": true, \"ticks\": \"\", \"zerolinecolor\": \"white\"}, \"zaxis\": {\"backgroundcolor\": \"#E5ECF6\", \"gridcolor\": \"white\", \"gridwidth\": 2, \"linecolor\": \"white\", \"showbackground\": true, \"ticks\": \"\", \"zerolinecolor\": \"white\"}}, \"shapedefaults\": {\"line\": {\"color\": \"#2a3f5f\"}}, \"ternary\": {\"aaxis\": {\"gridcolor\": \"white\", \"linecolor\": \"white\", \"ticks\": \"\"}, \"baxis\": {\"gridcolor\": \"white\", \"linecolor\": \"white\", \"ticks\": \"\"}, \"bgcolor\": \"#E5ECF6\", \"caxis\": {\"gridcolor\": \"white\", \"linecolor\": \"white\", \"ticks\": \"\"}}, \"title\": {\"x\": 0.05}, \"xaxis\": {\"automargin\": true, \"gridcolor\": \"white\", \"linecolor\": \"white\", \"ticks\": \"\", \"title\": {\"standoff\": 15}, \"zerolinecolor\": \"white\", \"zerolinewidth\": 2}, \"yaxis\": {\"automargin\": true, \"gridcolor\": \"white\", \"linecolor\": \"white\", \"ticks\": \"\", \"title\": {\"standoff\": 15}, \"zerolinecolor\": \"white\", \"zerolinewidth\": 2}}}, \"xaxis\": {\"rangeslider\": {\"visible\": false}}},                        {\"responsive\": true}                    ).then(function(){\n",
       "                            \n",
       "var gd = document.getElementById('b0f9081b-7b25-4917-aaac-501a8210c2db');\n",
       "var x = new MutationObserver(function (mutations, observer) {{\n",
       "        var display = window.getComputedStyle(gd).display;\n",
       "        if (!display || display === 'none') {{\n",
       "            console.log([gd, 'removed!']);\n",
       "            Plotly.purge(gd);\n",
       "            observer.disconnect();\n",
       "        }}\n",
       "}});\n",
       "\n",
       "// Listen for the removal of the full notebook cells\n",
       "var notebookContainer = gd.closest('#notebook-container');\n",
       "if (notebookContainer) {{\n",
       "    x.observe(notebookContainer, {childList: true});\n",
       "}}\n",
       "\n",
       "// Listen for the clearing of the current output cell\n",
       "var outputEl = gd.closest('.output');\n",
       "if (outputEl) {{\n",
       "    x.observe(outputEl, {childList: true});\n",
       "}}\n",
       "\n",
       "                        })                };                });            </script>        </div>"
      ]
     },
     "metadata": {},
     "output_type": "display_data"
    }
   ],
   "source": [
    "fig = go.Figure(data=[go.Candlestick(x=data['Date'],\n",
    "                open=candlestick_data['Price']['first'], \n",
    "                high=candlestick_data['Price']['max'],\n",
    "                low=candlestick_data['Price']['min'], \n",
    "                close=candlestick_data['Price']['last'])\n",
    "                ])\n",
    "\n",
    "fig.update_layout(xaxis_rangeslider_visible=False)\n",
    "\n",
    "fig.show()"
   ]
  },
  {
   "cell_type": "markdown",
   "metadata": {},
   "source": [
    "## Authors:\n",
    "\n",
    "## Change Log\n",
    "\n",
    "| Date (YYYY-MM-DD) | Version | Changed By    | Change Description                 |\n",
    "| ----------------- | ------- | ------------- | ---------------------------------- |\n",
    "| 2020-11-23        | 3.0     | Azim Hirjani  | New API                            |\n",
    "| 2020-09-09        | 2.1     | Malika Singla | Spell Check                        |\n",
    "| 2020-08-26        | 2.0     | Lavanya       | Moved lab to course repo in GitLab |\n",
    "|                   |         |               |                                    |\n",
    "\n",
    "<hr/>\n",
    "\n",
    "## <h3 align=\"center\"> © IBM Corporation 2020. All rights reserved. <h3/>\n"
   ]
  },
  {
   "cell_type": "code",
   "execution_count": null,
   "metadata": {},
   "outputs": [],
   "source": []
  }
 ],
 "metadata": {
  "kernelspec": {
   "display_name": "Python",
   "language": "python",
   "name": "conda-env-python-py"
  },
  "language_info": {
   "codemirror_mode": {
    "name": "ipython",
    "version": 3
   },
   "file_extension": ".py",
   "mimetype": "text/x-python",
   "name": "python",
   "nbconvert_exporter": "python",
   "pygments_lexer": "ipython3",
   "version": "3.6.13"
  }
 },
 "nbformat": 4,
 "nbformat_minor": 4
}
